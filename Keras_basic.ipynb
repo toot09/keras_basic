{
  "nbformat": 4,
  "nbformat_minor": 0,
  "metadata": {
    "colab": {
      "name": "Keras_basic.ipynb",
      "provenance": [],
      "collapsed_sections": [],
      "include_colab_link": true
    },
    "kernelspec": {
      "name": "python3",
      "display_name": "Python 3"
    }
  },
  "cells": [
    {
      "cell_type": "markdown",
      "metadata": {
        "id": "view-in-github",
        "colab_type": "text"
      },
      "source": [
        "<a href=\"https://colab.research.google.com/github/toot09/keras_basic/blob/master/Keras_basic.ipynb\" target=\"_parent\"><img src=\"https://colab.research.google.com/assets/colab-badge.svg\" alt=\"Open In Colab\"/></a>"
      ]
    },
    {
      "cell_type": "markdown",
      "metadata": {
        "id": "YmY-0QeUYcaa"
      },
      "source": [
        "# 케라스(Keras) 기초부터 모델 생성까지\n",
        "\n",
        "<img src=\"https://s3.amazonaws.com/keras.io/img/keras-logo-2018-large-1200.png\">\n",
        "\n",
        "- 파이썬으로 작성된 고수준 신경망 API로 TensorFlow, CNTK, 혹은 Theano와 함께 사용 가능\n",
        "- 사용자 친화성, 모듈성, 확장성을 통해 빠르고 간편한 프로토타이핑 가능\n",
        "- 컨볼루션 신경망, 순환 신경망, 그리고 둘의 조합까지 모두 지원\n",
        "- CPU와 GPU에서 매끄럽게 실행"
      ]
    },
    {
      "cell_type": "code",
      "metadata": {
        "id": "qBkF9tvAbX08",
        "colab": {
          "base_uri": "https://localhost:8080/",
          "height": 36
        },
        "outputId": "5af3cd61-ca0e-4868-e697-1e592757e894"
      },
      "source": [
        "import numpy as np\n",
        "import tensorflow as tf\n",
        "\n",
        "tf.__version__"
      ],
      "execution_count": null,
      "outputs": [
        {
          "output_type": "execute_result",
          "data": {
            "application/vnd.google.colaboratory.intrinsic+json": {
              "type": "string"
            },
            "text/plain": [
              "'2.5.0'"
            ]
          },
          "metadata": {
            "tags": []
          },
          "execution_count": 1
        }
      ]
    },
    {
      "cell_type": "markdown",
      "metadata": {
        "id": "ih4Nb7nMbfMc"
      },
      "source": [
        "레이어들을 import하는 방식 (1)\n",
        "- 일일이 import 하지 않아도 됨\n",
        "\n",
        "- 코드가 다소 길어질 수 있음"
      ]
    },
    {
      "cell_type": "code",
      "metadata": {
        "id": "76J3cta0bd0e",
        "colab": {
          "base_uri": "https://localhost:8080/",
          "height": 36
        },
        "outputId": "f1fada59-a5c1-4a22-a5d5-2aa9bbc712bb"
      },
      "source": [
        "from tensorflow import keras\n",
        "\n",
        "keras.__version__"
      ],
      "execution_count": null,
      "outputs": [
        {
          "output_type": "execute_result",
          "data": {
            "application/vnd.google.colaboratory.intrinsic+json": {
              "type": "string"
            },
            "text/plain": [
              "'2.5.0'"
            ]
          },
          "metadata": {
            "tags": []
          },
          "execution_count": 2
        }
      ]
    },
    {
      "cell_type": "code",
      "metadata": {
        "id": "JZondHPTb6Vx",
        "colab": {
          "base_uri": "https://localhost:8080/"
        },
        "outputId": "e000407d-5b96-4df8-d8c2-8a1c0a1d2466"
      },
      "source": [
        "keras.layers.Dense(10, activation='sigmoid')"
      ],
      "execution_count": null,
      "outputs": [
        {
          "output_type": "execute_result",
          "data": {
            "text/plain": [
              "<tensorflow.python.keras.layers.core.Dense at 0x7fd0b388bc10>"
            ]
          },
          "metadata": {
            "tags": []
          },
          "execution_count": 3
        }
      ]
    },
    {
      "cell_type": "code",
      "metadata": {
        "id": "inaUuk6Nb84X",
        "colab": {
          "base_uri": "https://localhost:8080/"
        },
        "outputId": "99504ccb-ee3a-44bd-82cb-b77a48edbbea"
      },
      "source": [
        "keras.Model()"
      ],
      "execution_count": null,
      "outputs": [
        {
          "output_type": "execute_result",
          "data": {
            "text/plain": [
              "<tensorflow.python.keras.engine.training.Model at 0x7f85eaa66650>"
            ]
          },
          "metadata": {
            "tags": []
          },
          "execution_count": 5
        }
      ]
    },
    {
      "cell_type": "code",
      "metadata": {
        "id": "NBNQZ7GxcF2H",
        "colab": {
          "base_uri": "https://localhost:8080/"
        },
        "outputId": "03e63f24-dedd-41a9-a298-4d423f98fcff"
      },
      "source": [
        "keras.models.Sequential()"
      ],
      "execution_count": null,
      "outputs": [
        {
          "output_type": "execute_result",
          "data": {
            "text/plain": [
              "<tensorflow.python.keras.engine.sequential.Sequential at 0x7f85e6f25b90>"
            ]
          },
          "metadata": {
            "tags": []
          },
          "execution_count": 6
        }
      ]
    },
    {
      "cell_type": "markdown",
      "metadata": {
        "id": "XseyoEwjbrO-"
      },
      "source": [
        "레이어들을 import하는 방식 (2)\n",
        "- 일일이 import 해야함\n",
        "- 코드가 간결"
      ]
    },
    {
      "cell_type": "code",
      "metadata": {
        "id": "W8WLjvCZbwoF"
      },
      "source": [
        "from tensorflow.keras.layers import Dense, Input, Flatten, Activation\n",
        "from tensorflow.keras.models import Sequential\n",
        "from tensorflow.keras import Model"
      ],
      "execution_count": null,
      "outputs": []
    },
    {
      "cell_type": "code",
      "metadata": {
        "id": "nYcV0CnVcWJO",
        "colab": {
          "base_uri": "https://localhost:8080/"
        },
        "outputId": "70a37c4f-795e-45f9-9d03-8edb59c0cef9"
      },
      "source": [
        "Dense(10, activation='sigmoid')"
      ],
      "execution_count": null,
      "outputs": [
        {
          "output_type": "execute_result",
          "data": {
            "text/plain": [
              "<tensorflow.python.keras.layers.core.Dense at 0x7fd06c987310>"
            ]
          },
          "metadata": {
            "tags": []
          },
          "execution_count": 7
        }
      ]
    },
    {
      "cell_type": "code",
      "metadata": {
        "id": "RMd9TR6FcWDr",
        "colab": {
          "base_uri": "https://localhost:8080/"
        },
        "outputId": "a89a2108-9cb2-46fb-bde4-623301eb59b3"
      },
      "source": [
        "Flatten(input_shape=[28,28])"
      ],
      "execution_count": null,
      "outputs": [
        {
          "output_type": "execute_result",
          "data": {
            "text/plain": [
              "<tensorflow.python.keras.layers.core.Flatten at 0x7fd06c987a50>"
            ]
          },
          "metadata": {
            "tags": []
          },
          "execution_count": 6
        }
      ]
    },
    {
      "cell_type": "code",
      "metadata": {
        "id": "mUUsZK3YLnJN",
        "colab": {
          "base_uri": "https://localhost:8080/"
        },
        "outputId": "8bb3eec8-d7ca-4238-b3a4-d0b771bd74ca"
      },
      "source": [
        "X_train = np.random.randn(5,10)\n",
        "Input(shape=X_train.shape[1:])"
      ],
      "execution_count": null,
      "outputs": [
        {
          "output_type": "execute_result",
          "data": {
            "text/plain": [
              "<KerasTensor: shape=(None, 10) dtype=float32 (created by layer 'input_1')>"
            ]
          },
          "metadata": {
            "tags": []
          },
          "execution_count": 8
        }
      ]
    },
    {
      "cell_type": "code",
      "metadata": {
        "id": "NCwhq_xGLvNd",
        "colab": {
          "base_uri": "https://localhost:8080/"
        },
        "outputId": "9f81552c-8204-4446-a6a8-db30ac85a226"
      },
      "source": [
        "print(X_train.shape)\n",
        "print(X_train.shape[1:])"
      ],
      "execution_count": null,
      "outputs": [
        {
          "output_type": "stream",
          "text": [
            "(5, 10)\n",
            "(10,)\n"
          ],
          "name": "stdout"
        }
      ]
    },
    {
      "cell_type": "markdown",
      "metadata": {
        "id": "1Qz5gkr70p12"
      },
      "source": [
        "## 주요 레이어"
      ]
    },
    {
      "cell_type": "markdown",
      "metadata": {
        "id": "Vl0XJyRvbNh5"
      },
      "source": [
        "### Dense\n",
        "\n",
        "- Dense 는 입력과 출력을 모두 연결해주는 NN 레이어이다. keras에서는 Dense가 클래스로 구현되어 있다. Dense로 만든 node는 각각 W, B를 가진다. model의 fit함수를 호출하여 학습시킨다.\n",
        "\n",
        "- Fully-Connected Layer\n",
        "\n",
        "- 노드수(유닛수), 활성화 함수 등을 지정\n",
        "\n",
        "- name을 통한 레이어간 구분 가능\n",
        "\n",
        "- 기본적으로  \n",
        "  'Glorot_uniform' 가중치(Xabier 분포 초기화), zeros bias로 초기화\n",
        "  - kernel_initializer 인자를 통해 다른 가중치 초기화를 진행할 수 있음"
      ]
    },
    {
      "cell_type": "code",
      "metadata": {
        "id": "0By3apmYYe31"
      },
      "source": [
        "dense = Dense(10, activation='relu', name='Dense Layer')"
      ],
      "execution_count": null,
      "outputs": []
    },
    {
      "cell_type": "code",
      "metadata": {
        "id": "KUAMqoGNd9gq",
        "colab": {
          "base_uri": "https://localhost:8080/"
        },
        "outputId": "f83d6de5-a08d-4c99-c69f-7ce6235b09a6"
      },
      "source": [
        "dense"
      ],
      "execution_count": null,
      "outputs": [
        {
          "output_type": "execute_result",
          "data": {
            "text/plain": [
              "<tensorflow.python.keras.layers.core.Dense at 0x7fd06c831f90>"
            ]
          },
          "metadata": {
            "tags": []
          },
          "execution_count": 11
        }
      ]
    },
    {
      "cell_type": "code",
      "metadata": {
        "id": "nhb-kQGzhJWC"
      },
      "source": [
        "dense2 = Dense(15, activation='softmax')"
      ],
      "execution_count": null,
      "outputs": []
    },
    {
      "cell_type": "code",
      "metadata": {
        "id": "IF_zVkbnhJPz",
        "colab": {
          "base_uri": "https://localhost:8080/"
        },
        "outputId": "dcea44c4-7d8a-4b8e-8f67-741e3b6891cc"
      },
      "source": [
        "dense2"
      ],
      "execution_count": null,
      "outputs": [
        {
          "output_type": "execute_result",
          "data": {
            "text/plain": [
              "<tensorflow.python.keras.layers.core.Dense at 0x7fd073d64cd0>"
            ]
          },
          "metadata": {
            "tags": []
          },
          "execution_count": 13
        }
      ]
    },
    {
      "cell_type": "markdown",
      "metadata": {
        "id": "v6kPbw7ZJ0W5"
      },
      "source": [
        "### Activation\n",
        "- Dense layer에서 미리 활성화함수를 지정할 수도 있지만 때에 따라서 따로 레이어를 만들어줄 수 있음"
      ]
    },
    {
      "cell_type": "code",
      "metadata": {
        "id": "71iUDTGUJ8vu",
        "colab": {
          "base_uri": "https://localhost:8080/"
        },
        "outputId": "8483ab1c-c1a3-487c-8a7d-3c7b16544470"
      },
      "source": [
        "dense = Dense(10, kernel_initializer='he_normal', name='Dense Layer')\n",
        "dense = Activation(dense)\n",
        "dense"
      ],
      "execution_count": null,
      "outputs": [
        {
          "output_type": "execute_result",
          "data": {
            "text/plain": [
              "<tensorflow.python.keras.layers.core.Activation at 0x7fd0b99232d0>"
            ]
          },
          "metadata": {
            "tags": []
          },
          "execution_count": 14
        }
      ]
    },
    {
      "cell_type": "markdown",
      "metadata": {
        "id": "NYDu0hcJejJh"
      },
      "source": [
        "### Flatten\n",
        "- 배치 크기(또는 데이터 크기)를 제외하고 데이터를 1차원으로 쭉 펼치는 작업\n",
        "\n",
        "- 예시)\n",
        "        (128, 3, 2, 2) ---> (128, 12)\n",
        "      "
      ]
    },
    {
      "cell_type": "code",
      "metadata": {
        "id": "3HzBfkjRd-dN"
      },
      "source": [
        "x = Flatten(input_shape=(28,28))"
      ],
      "execution_count": null,
      "outputs": []
    },
    {
      "cell_type": "markdown",
      "metadata": {
        "id": "gREcwh2cg1Zc"
      },
      "source": [
        "### Input \n",
        "- 모델의 입력을 정의\n",
        "\n",
        "- shape, dtype을 포함\n",
        "\n",
        "- 하나의 모델은 여러 개의 입력을 가질 수 있음\n",
        "\n",
        "- 'summary()' 메소드를 통해서는 보이지 않음"
      ]
    },
    {
      "cell_type": "code",
      "metadata": {
        "id": "2_kWKUMUefMf"
      },
      "source": [
        "input_1 = Input(shape=(28,28), dtype=tf.float32)\n",
        "input_2 = Input(shape=(8,), dtype=tf.int32)"
      ],
      "execution_count": null,
      "outputs": []
    },
    {
      "cell_type": "code",
      "metadata": {
        "id": "1ErOXHCgh6gq",
        "colab": {
          "base_uri": "https://localhost:8080/"
        },
        "outputId": "abf98ced-9e14-4d8a-a0b9-d5bd68f5fec7"
      },
      "source": [
        "input_1"
      ],
      "execution_count": null,
      "outputs": [
        {
          "output_type": "execute_result",
          "data": {
            "text/plain": [
              "<KerasTensor: shape=(None, 28, 28) dtype=float32 (created by layer 'input_3')>"
            ]
          },
          "metadata": {
            "tags": []
          },
          "execution_count": 23
        }
      ]
    },
    {
      "cell_type": "code",
      "metadata": {
        "id": "ic2vspIbh87y",
        "colab": {
          "base_uri": "https://localhost:8080/"
        },
        "outputId": "17e0979a-5e5b-410c-af2c-5ae91060ea94"
      },
      "source": [
        "input_2"
      ],
      "execution_count": null,
      "outputs": [
        {
          "output_type": "execute_result",
          "data": {
            "text/plain": [
              "<KerasTensor: shape=(None, 8) dtype=int32 (created by layer 'input_4')>"
            ]
          },
          "metadata": {
            "tags": []
          },
          "execution_count": 24
        }
      ]
    },
    {
      "cell_type": "markdown",
      "metadata": {
        "id": "_BMMAUoKjVC6"
      },
      "source": [
        "## 모델 구성 방법\n",
        "- Sequential()\n",
        "\n",
        "- 서브클래싱(Subclassing)\n",
        "\n",
        "- 함수형 API"
      ]
    },
    {
      "cell_type": "markdown",
      "metadata": {
        "id": "QckCD5TQjubf"
      },
      "source": [
        "### Sequential()\n",
        "\n",
        "- 모델이 순차적으로 진행할 때 사용\n",
        "\n",
        "- 간단한 방법\n",
        "  - Sequential 객체 생성 후, **add**를 통한 방법\n",
        "  \n",
        "  - Sequential 인자에 한번에 추가\n",
        "\n",
        "- 다중 입력 및 출력이 존재하는 등의 복잡한 모델을 구성할 수 없음\n"
      ]
    },
    {
      "cell_type": "code",
      "metadata": {
        "id": "0TaLg9w4h9_Z"
      },
      "source": [
        "from tensorflow.keras.layers import Dense, Input, Flatten\n",
        "from tensorflow.keras.models import Sequential, Model\n",
        "from tensorflow.keras.utils import plot_model"
      ],
      "execution_count": null,
      "outputs": []
    },
    {
      "cell_type": "code",
      "metadata": {
        "id": "AaZWV6DckLz-",
        "colab": {
          "base_uri": "https://localhost:8080/"
        },
        "outputId": "605ef9ec-3346-49b7-8d28-96312c1cfb25"
      },
      "source": [
        "model = Sequential()\n",
        "model.add(Input(shape=(28,28)))\n",
        "model.add(Dense(300, activation='relu', name='Layer1'))\n",
        "model.add(Dense(100, activation='relu'))\n",
        "model.add(Dense(10, activation='softmax'))"
      ],
      "execution_count": null,
      "outputs": [
        {
          "output_type": "stream",
          "text": [
            "WARNING:tensorflow:Please add `keras.layers.InputLayer` instead of `keras.Input` to Sequential model. `keras.Input` is intended to be used by Functional model.\n"
          ],
          "name": "stdout"
        }
      ]
    },
    {
      "cell_type": "markdown",
      "metadata": {
        "id": "uPelUwFwk-ap"
      },
      "source": [
        "모델 구조 확인\n",
        "- model 객체의 **summary()** 이용"
      ]
    },
    {
      "cell_type": "code",
      "metadata": {
        "id": "11qLpBoRkVd6",
        "colab": {
          "base_uri": "https://localhost:8080/"
        },
        "outputId": "1381b8ae-2d21-4c94-ebad-20f9142def32"
      },
      "source": [
        "model.summary()"
      ],
      "execution_count": null,
      "outputs": [
        {
          "output_type": "stream",
          "text": [
            "Model: \"sequential_4\"\n",
            "_________________________________________________________________\n",
            "Layer (type)                 Output Shape              Param #   \n",
            "=================================================================\n",
            "Layer1 (Dense)               (None, 28, 300)           8700      \n",
            "_________________________________________________________________\n",
            "dense_11 (Dense)             (None, 28, 100)           30100     \n",
            "_________________________________________________________________\n",
            "dense_12 (Dense)             (None, 28, 10)            1010      \n",
            "=================================================================\n",
            "Total params: 39,810\n",
            "Trainable params: 39,810\n",
            "Non-trainable params: 0\n",
            "_________________________________________________________________\n"
          ],
          "name": "stdout"
        }
      ]
    },
    {
      "cell_type": "code",
      "metadata": {
        "id": "4AO6KrJzlAwh",
        "colab": {
          "base_uri": "https://localhost:8080/",
          "height": 369
        },
        "outputId": "f38f7048-dda6-440b-dd2f-416a20d00c01"
      },
      "source": [
        "plot_model(model)"
      ],
      "execution_count": null,
      "outputs": [
        {
          "output_type": "execute_result",
          "data": {
            "image/png": "[encoded data removed]",
            "text/plain": [
              "<IPython.core.display.Image object>"
            ]
          },
          "metadata": {
            "tags": []
          },
          "execution_count": 35
        }
      ]
    },
    {
      "cell_type": "code",
      "metadata": {
        "id": "ezAsiEPhJWsU",
        "colab": {
          "base_uri": "https://localhost:8080/",
          "height": 369
        },
        "outputId": "31ba699e-6830-4135-dcc6-c047623f3caf"
      },
      "source": [
        "plot_model(model, to_file='model1.png')"
      ],
      "execution_count": null,
      "outputs": [
        {
          "output_type": "execute_result",
          "data": {
            "image/png": "[encoded data removed]",
            "text/plain": [
              "<IPython.core.display.Image object>"
            ]
          },
          "metadata": {
            "tags": []
          },
          "execution_count": 38
        }
      ]
    },
    {
      "cell_type": "code",
      "metadata": {
        "id": "ktw3lIKKlDx5",
        "colab": {
          "base_uri": "https://localhost:8080/"
        },
        "outputId": "3d1b459d-060d-48ff-dcc2-4acb52cb9c92"
      },
      "source": [
        "!ls"
      ],
      "execution_count": null,
      "outputs": [
        {
          "output_type": "stream",
          "text": [
            "model1.png  model.png  sample_data\n"
          ],
          "name": "stdout"
        }
      ]
    },
    {
      "cell_type": "code",
      "metadata": {
        "id": "SqNs_lvWlrfg",
        "colab": {
          "base_uri": "https://localhost:8080/"
        },
        "outputId": "7b4274bf-067a-434f-9ed3-fe1e202e1826"
      },
      "source": [
        "model = Sequential([Input(shape=(28,28), name='Input'),\n",
        "                   Dense(300, activation='relu', name='Dense1'),\n",
        "                   Dense(100, activation='relu', name='Dense2'),\n",
        "                   Dense(10, activation='softmax', name='Output')])"
      ],
      "execution_count": null,
      "outputs": [
        {
          "output_type": "stream",
          "text": [
            "WARNING:tensorflow:Please add `keras.layers.InputLayer` instead of `keras.Input` to Sequential model. `keras.Input` is intended to be used by Functional model.\n"
          ],
          "name": "stdout"
        }
      ]
    },
    {
      "cell_type": "code",
      "metadata": {
        "id": "ePBTYE0FltI_",
        "colab": {
          "base_uri": "https://localhost:8080/"
        },
        "outputId": "57b63f15-6b14-4cc4-e36f-90a574a08689"
      },
      "source": [
        "model.summary()"
      ],
      "execution_count": null,
      "outputs": [
        {
          "output_type": "stream",
          "text": [
            "Model: \"sequential_6\"\n",
            "_________________________________________________________________\n",
            "Layer (type)                 Output Shape              Param #   \n",
            "=================================================================\n",
            "Dense1 (Dense)               (None, 28, 300)           8700      \n",
            "_________________________________________________________________\n",
            "Dense2 (Dense)               (None, 28, 100)           30100     \n",
            "_________________________________________________________________\n",
            "Output (Dense)               (None, 28, 10)            1010      \n",
            "=================================================================\n",
            "Total params: 39,810\n",
            "Trainable params: 39,810\n",
            "Non-trainable params: 0\n",
            "_________________________________________________________________\n"
          ],
          "name": "stdout"
        }
      ]
    },
    {
      "cell_type": "code",
      "metadata": {
        "id": "ohU5iTldJOXT",
        "colab": {
          "base_uri": "https://localhost:8080/",
          "height": 369
        },
        "outputId": "a6bd8aaf-3d60-46c7-b80e-bd862d0f9e78"
      },
      "source": [
        "plot_model(model)"
      ],
      "execution_count": null,
      "outputs": [
        {
          "output_type": "execute_result",
          "data": {
            "image/png": "[encoded data removed]",
            "text/plain": [
              "<IPython.core.display.Image object>"
            ]
          },
          "metadata": {
            "tags": []
          },
          "execution_count": 43
        }
      ]
    },
    {
      "cell_type": "markdown",
      "metadata": {
        "id": "ZM04XyfbrBpX"
      },
      "source": [
        "### 함수형 API\n",
        "\n",
        "- 가장 권장되는 방법\n",
        "\n",
        "- 모델을 복잡하고, 유연하게 구성 가능\n",
        "\n",
        "- 다중 입출력을 다룰 수 있음"
      ]
    },
    {
      "cell_type": "code",
      "metadata": {
        "id": "0XjcLyjetLdh"
      },
      "source": [
        "from tensorflow.keras.models import Model\n",
        "from tensorflow.keras.layers import Flatten, Dense, Input\n",
        "from tensorflow.keras.utils import plot_model"
      ],
      "execution_count": null,
      "outputs": []
    },
    {
      "cell_type": "code",
      "metadata": {
        "id": "IvJZX1mbtZNm"
      },
      "source": [
        "inputs = Input(shape=(28,28))\n",
        "x = Flatten(input_shape=(28,28,1))(inputs)\n",
        "x = Dense(300, activation='relu')(x)\n",
        "x = Dense(100, activation='relu')(x)\n",
        "x = Dense(100, activation='softmax')(x)"
      ],
      "execution_count": null,
      "outputs": []
    },
    {
      "cell_type": "code",
      "metadata": {
        "id": "_C4-YXaYtZG2"
      },
      "source": [
        "model = Model(inputs=inputs, outputs=x)"
      ],
      "execution_count": null,
      "outputs": []
    },
    {
      "cell_type": "code",
      "metadata": {
        "id": "541mCIP_utZ0",
        "colab": {
          "base_uri": "https://localhost:8080/"
        },
        "outputId": "3c3c0feb-ba7b-4ed3-f2c4-568a6fa751f8"
      },
      "source": [
        "model.summary()"
      ],
      "execution_count": null,
      "outputs": [
        {
          "output_type": "stream",
          "text": [
            "Model: \"model\"\n",
            "_________________________________________________________________\n",
            "Layer (type)                 Output Shape              Param #   \n",
            "=================================================================\n",
            "input_10 (InputLayer)        [(None, 28, 28)]          0         \n",
            "_________________________________________________________________\n",
            "flatten_6 (Flatten)          (None, 784)               0         \n",
            "_________________________________________________________________\n",
            "dense_13 (Dense)             (None, 300)               235500    \n",
            "_________________________________________________________________\n",
            "dense_14 (Dense)             (None, 100)               30100     \n",
            "_________________________________________________________________\n",
            "dense_15 (Dense)             (None, 100)               10100     \n",
            "=================================================================\n",
            "Total params: 275,700\n",
            "Trainable params: 275,700\n",
            "Non-trainable params: 0\n",
            "_________________________________________________________________\n"
          ],
          "name": "stdout"
        }
      ]
    },
    {
      "cell_type": "code",
      "metadata": {
        "id": "9eqHbjseuzmi",
        "colab": {
          "base_uri": "https://localhost:8080/",
          "height": 466
        },
        "outputId": "1305aea7-d2f8-4b9e-c8a6-e2334b0c1e18"
      },
      "source": [
        "plot_model(model)"
      ],
      "execution_count": null,
      "outputs": [
        {
          "output_type": "execute_result",
          "data": {
            "image/png": "[encoded data removed]",
            "text/plain": [
              "<IPython.core.display.Image object>"
            ]
          },
          "metadata": {
            "tags": []
          },
          "execution_count": 50
        }
      ]
    },
    {
      "cell_type": "code",
      "metadata": {
        "id": "4zp-khCAJ_Rg"
      },
      "source": [
        "from tensorflow.keras.layers import Concatenate\n",
        "\n",
        "input_layer = Input(shape=(28,28))\n",
        "hidden1 = Dense(100, activation='relu', name='hidden1')(input_layer)\n",
        "hidden2 = Dense(30, activation='relu', name='hidden2')(hidden1)\n",
        "concat = Concatenate()([input_layer, hidden2])\n",
        "output = Dense(1)(concat)\n",
        "\n",
        "model = Model(inputs=[input_layer], outputs=[output])"
      ],
      "execution_count": null,
      "outputs": []
    },
    {
      "cell_type": "code",
      "metadata": {
        "id": "3iAC6QhRwsBn",
        "colab": {
          "base_uri": "https://localhost:8080/"
        },
        "outputId": "93cfd144-4d5b-4adf-8799-2d3c2a31a2c5"
      },
      "source": [
        "model.summary()"
      ],
      "execution_count": null,
      "outputs": [
        {
          "output_type": "stream",
          "text": [
            "Model: \"model_2\"\n",
            "__________________________________________________________________________________________________\n",
            "Layer (type)                    Output Shape         Param #     Connected to                     \n",
            "==================================================================================================\n",
            "input_12 (InputLayer)           [(None, 28, 28)]     0                                            \n",
            "__________________________________________________________________________________________________\n",
            "hidden1 (Dense)                 (None, 28, 100)      2900        input_12[0][0]                   \n",
            "__________________________________________________________________________________________________\n",
            "hidden2 (Dense)                 (None, 28, 30)       3030        hidden1[0][0]                    \n",
            "__________________________________________________________________________________________________\n",
            "concatenate_1 (Concatenate)     (None, 28, 58)       0           input_12[0][0]                   \n",
            "                                                                 hidden2[0][0]                    \n",
            "__________________________________________________________________________________________________\n",
            "dense_19 (Dense)                (None, 28, 1)        59          concatenate_1[0][0]              \n",
            "==================================================================================================\n",
            "Total params: 5,989\n",
            "Trainable params: 5,989\n",
            "Non-trainable params: 0\n",
            "__________________________________________________________________________________________________\n"
          ],
          "name": "stdout"
        }
      ]
    },
    {
      "cell_type": "code",
      "metadata": {
        "id": "c2VgxtTgwr5_",
        "colab": {
          "base_uri": "https://localhost:8080/",
          "height": 466
        },
        "outputId": "977323a5-8eaf-44d7-8c67-2c8e545275b6"
      },
      "source": [
        "plot_model(model)"
      ],
      "execution_count": null,
      "outputs": [
        {
          "output_type": "execute_result",
          "data": {
            "image/png": "[encoded data removed]",
            "text/plain": [
              "<IPython.core.display.Image object>"
            ]
          },
          "metadata": {
            "tags": []
          },
          "execution_count": 58
        }
      ]
    },
    {
      "cell_type": "code",
      "metadata": {
        "id": "rMPkFz43xvwA"
      },
      "source": [
        "input_1 = Input(shape=(10,10))\n",
        "input_2 = Input(shape=(10,28))\n",
        "hidden1 = Dense(300, activation='relu', name='hidden1')(input_2)\n",
        "hidden2 = Dense(100, activation='sigmoid', name='hidden2')(hidden1)\n",
        "concat = Concatenate()([input_1, hidden2])\n",
        "ouput = Dense(10, activation='softmax', name='output')(concat)\n",
        "\n",
        "model = Model(inputs=[input_1, input_2], outputs=[ouput])"
      ],
      "execution_count": null,
      "outputs": []
    },
    {
      "cell_type": "code",
      "metadata": {
        "id": "Mcq5LtfcKBh_",
        "colab": {
          "base_uri": "https://localhost:8080/"
        },
        "outputId": "ee32a8b9-1b52-4c25-faca-64a6a83cce53"
      },
      "source": [
        "model.summary()"
      ],
      "execution_count": null,
      "outputs": [
        {
          "output_type": "stream",
          "text": [
            "Model: \"model_5\"\n",
            "__________________________________________________________________________________________________\n",
            "Layer (type)                    Output Shape         Param #     Connected to                     \n",
            "==================================================================================================\n",
            "input_30 (InputLayer)           [(None, 10, 28)]     0                                            \n",
            "__________________________________________________________________________________________________\n",
            "hidden1 (Dense)                 (None, 10, 300)      8700        input_30[0][0]                   \n",
            "__________________________________________________________________________________________________\n",
            "input_29 (InputLayer)           [(None, 10, 10)]     0                                            \n",
            "__________________________________________________________________________________________________\n",
            "hidden2 (Dense)                 (None, 10, 100)      30100       hidden1[0][0]                    \n",
            "__________________________________________________________________________________________________\n",
            "concatenate_10 (Concatenate)    (None, 10, 110)      0           input_29[0][0]                   \n",
            "                                                                 hidden2[0][0]                    \n",
            "__________________________________________________________________________________________________\n",
            "output (Dense)                  (None, 10, 10)       1110        concatenate_10[0][0]             \n",
            "==================================================================================================\n",
            "Total params: 39,910\n",
            "Trainable params: 39,910\n",
            "Non-trainable params: 0\n",
            "__________________________________________________________________________________________________\n"
          ],
          "name": "stdout"
        }
      ]
    },
    {
      "cell_type": "code",
      "metadata": {
        "id": "wvtGiFj6x6qa",
        "colab": {
          "base_uri": "https://localhost:8080/",
          "height": 466
        },
        "outputId": "8f7f6ea9-b5e9-4e35-f135-d52396706d5f"
      },
      "source": [
        "plot_model(model)"
      ],
      "execution_count": null,
      "outputs": [
        {
          "output_type": "execute_result",
          "data": {
            "image/png": "[encoded data removed]",
            "text/plain": [
              "<IPython.core.display.Image object>"
            ]
          },
          "metadata": {
            "tags": []
          },
          "execution_count": 73
        }
      ]
    },
    {
      "cell_type": "code",
      "metadata": {
        "id": "aVvTOFzfx61O"
      },
      "source": [
        "input = Input(shape=(28,28))\n",
        "\n",
        "hidden1 = Dense(300, activation='relu')(input)\n",
        "hidden2 = Dense(100, activation='relu')(hidden1)\n",
        "\n",
        "main_output = Dense(1, activation='sigmoid')(hidden2)\n",
        "sub_output = Dense(1)(hidden2)\n",
        "\n",
        "model = Model(inputs=[input], outputs=[main_output, sub_output])"
      ],
      "execution_count": null,
      "outputs": []
    },
    {
      "cell_type": "code",
      "metadata": {
        "id": "nfxZETTvx6zE",
        "colab": {
          "base_uri": "https://localhost:8080/"
        },
        "outputId": "26a833b9-a9ed-4edd-8a60-def44bead732"
      },
      "source": [
        "model.summary()"
      ],
      "execution_count": null,
      "outputs": [
        {
          "output_type": "stream",
          "text": [
            "Model: \"model_6\"\n",
            "__________________________________________________________________________________________________\n",
            "Layer (type)                    Output Shape         Param #     Connected to                     \n",
            "==================================================================================================\n",
            "input_32 (InputLayer)           [(None, 28, 28)]     0                                            \n",
            "__________________________________________________________________________________________________\n",
            "dense_25 (Dense)                (None, 28, 300)      8700        input_32[0][0]                   \n",
            "__________________________________________________________________________________________________\n",
            "dense_26 (Dense)                (None, 28, 100)      30100       dense_25[0][0]                   \n",
            "__________________________________________________________________________________________________\n",
            "dense_27 (Dense)                (None, 28, 1)        101         dense_26[0][0]                   \n",
            "__________________________________________________________________________________________________\n",
            "dense_28 (Dense)                (None, 28, 1)        101         dense_26[0][0]                   \n",
            "==================================================================================================\n",
            "Total params: 39,002\n",
            "Trainable params: 39,002\n",
            "Non-trainable params: 0\n",
            "__________________________________________________________________________________________________\n"
          ],
          "name": "stdout"
        }
      ]
    },
    {
      "cell_type": "code",
      "metadata": {
        "id": "xkJlrolMKD6B",
        "colab": {
          "base_uri": "https://localhost:8080/",
          "height": 369
        },
        "outputId": "122bada6-99a5-4eb1-a521-e70b7c270661"
      },
      "source": [
        "plot_model(model)"
      ],
      "execution_count": null,
      "outputs": [
        {
          "output_type": "execute_result",
          "data": {
            "image/png": "[encoded data removed]",
            "text/plain": [
              "<IPython.core.display.Image object>"
            ]
          },
          "metadata": {
            "tags": []
          },
          "execution_count": 77
        }
      ]
    },
    {
      "cell_type": "code",
      "metadata": {
        "id": "qGorWfShzuYS"
      },
      "source": [
        "input_1 = Input(shape=(10,10), name='input_1')\n",
        "input_2 = Input(shape=(10,28), name='input_2')\n",
        "\n",
        "hidden1 = Dense(100, activation='relu')(input_2)\n",
        "hidden2 = Dense(30, activation='relu')(hidden1)\n",
        "concat = Concatenate()([input_1, hidden2])\n",
        "\n",
        "main_output = Dense(1, activation='sigmoid', name='main_output')(concat)\n",
        "sub_output = Dense(1, name='sub_output')(hidden2)\n",
        "\n",
        "model = Model(inputs=[input_1, input_2], outputs=[main_output, sub_output])"
      ],
      "execution_count": null,
      "outputs": []
    },
    {
      "cell_type": "code",
      "metadata": {
        "id": "VWiRsHIB0ROK",
        "colab": {
          "base_uri": "https://localhost:8080/"
        },
        "outputId": "88b97ba7-aa40-42a1-be88-9e87fec33fb7"
      },
      "source": [
        "model.summary()"
      ],
      "execution_count": null,
      "outputs": [
        {
          "output_type": "stream",
          "text": [
            "Model: \"model_33\"\n",
            "__________________________________________________________________________________________________\n",
            "Layer (type)                    Output Shape         Param #     Connected to                     \n",
            "==================================================================================================\n",
            "input_2 (InputLayer)            [(None, 10, 28)]     0                                            \n",
            "__________________________________________________________________________________________________\n",
            "dense_121 (Dense)               (None, 10, 100)      2900        input_2[0][0]                    \n",
            "__________________________________________________________________________________________________\n",
            "input_1 (InputLayer)            [(None, 10, 10)]     0                                            \n",
            "__________________________________________________________________________________________________\n",
            "dense_122 (Dense)               (None, 10, 30)       3030        dense_121[0][0]                  \n",
            "__________________________________________________________________________________________________\n",
            "concatenate_31 (Concatenate)    (None, 10, 40)       0           input_1[0][0]                    \n",
            "                                                                 dense_122[0][0]                  \n",
            "__________________________________________________________________________________________________\n",
            "dense_123 (Dense)               (None, 10, 1)        41          concatenate_31[0][0]             \n",
            "__________________________________________________________________________________________________\n",
            "dense_124 (Dense)               (None, 10, 1)        31          dense_122[0][0]                  \n",
            "==================================================================================================\n",
            "Total params: 6,002\n",
            "Trainable params: 6,002\n",
            "Non-trainable params: 0\n",
            "__________________________________________________________________________________________________\n"
          ],
          "name": "stdout"
        }
      ]
    },
    {
      "cell_type": "code",
      "metadata": {
        "id": "121rkvNOKF43",
        "colab": {
          "base_uri": "https://localhost:8080/",
          "height": 466
        },
        "outputId": "52110632-09c1-42b6-fcfe-07627762b18f"
      },
      "source": [
        "plot_model(model)"
      ],
      "execution_count": null,
      "outputs": [
        {
          "output_type": "execute_result",
          "data": {
            "image/png": "[encoded data removed]",
            "text/plain": [
              "<IPython.core.display.Image object>"
            ]
          },
          "metadata": {
            "tags": []
          },
          "execution_count": 118
        }
      ]
    },
    {
      "cell_type": "markdown",
      "metadata": {
        "id": "MRQUHfuHmW9a"
      },
      "source": [
        "### 서브클래싱(Subclassing)\n",
        "- 커스터마이징에 최적화된 방법\n",
        "\n",
        "- Model 클래스를 상속받아 Model이 포함하는 기능을 사용할 수 있음  \n",
        "  - `fit()`, `evaluate()`, `predict()`\n",
        "  - `save()`, `load()`\n",
        "\n",
        "- 주로 `call()` 메소드안에서 원하는 계산 가능\n",
        "  - for, if, 저수준 연산 등\n",
        "\n",
        "- 권장되는 방법은 아니지만 어떤 모델의 구현 코드를 참고할 때  \n",
        "  해석할 수 있어야함"
      ]
    },
    {
      "cell_type": "code",
      "metadata": {
        "id": "J8edl37Ylv7h"
      },
      "source": [
        "from tensorflow.keras.models import Model\n",
        "from tensorflow.keras.layers import Input, Flatten, Dense\n",
        "from tensorflow.keras.utils import plot_model"
      ],
      "execution_count": null,
      "outputs": []
    },
    {
      "cell_type": "code",
      "metadata": {
        "id": "7JKLw7bNsRcr"
      },
      "source": [
        "class MyMode(Model):\n",
        "  def __init__(self, inits=30, activation='relu', **kwargs):\n",
        "    supper(MyModel, self).__init__(**kwargs)\n",
        "\n",
        "    self.dense_layer1 = Dense(300, activation=activation)\n",
        "    self.dense_layer2 = Dense(100, activation=activation)\n",
        "    self.dense_layer3 = Dense(units, activation=activation)\n",
        "\n",
        "    self.output_layer = Dense(10, activation='softmax')\n",
        "\n",
        "  def call(self, inputs):\n",
        "    x = self.dense_layer1(inputs)\n",
        "    x = self.dense_layer2(x)\n",
        "    x = self.dense_layer3(x)\n",
        "    x = self.output_layer(output_layer)\n",
        "    return x"
      ],
      "execution_count": null,
      "outputs": []
    },
    {
      "cell_type": "markdown",
      "metadata": {
        "id": "a8TkTb9x6_KI"
      },
      "source": [
        "\n",
        "## 모델 가중치 확인"
      ]
    },
    {
      "cell_type": "code",
      "metadata": {
        "id": "A12S4z1qpfwh"
      },
      "source": [
        "from tensorflow.keras.models import Model\n",
        "from tensorflow.keras.layers import Input, Flatten, Dense\n",
        "from tensorflow.keras.utils import plot_model"
      ],
      "execution_count": null,
      "outputs": []
    },
    {
      "cell_type": "code",
      "metadata": {
        "id": "HLgHWRTv7D2L"
      },
      "source": [
        "inputs = Input(shape=(28,28,1))\n",
        "\n",
        "x = Flatten(input_shape=(28,28,1))(inputs)\n",
        "x = Dense(300, activation='relu')(x)\n",
        "x = Dense(100, activation='relu')(x)\n",
        "x = Dense(10, activation='softmax')(x)\n",
        "\n",
        "model = Model(inputs=[inputs], outputs=[x])"
      ],
      "execution_count": null,
      "outputs": []
    },
    {
      "cell_type": "code",
      "metadata": {
        "id": "b_34PqiU7Dvz",
        "colab": {
          "base_uri": "https://localhost:8080/",
          "height": 466
        },
        "outputId": "3e66aa76-925e-4ba7-fd54-8552694eba66"
      },
      "source": [
        "plot_model(model)"
      ],
      "execution_count": null,
      "outputs": [
        {
          "output_type": "execute_result",
          "data": {
            "image/png": "[encoded data removed]",
            "text/plain": [
              "<IPython.core.display.Image object>"
            ]
          },
          "metadata": {
            "tags": []
          },
          "execution_count": 128
        }
      ]
    },
    {
      "cell_type": "markdown",
      "metadata": {
        "id": "KK-5msf3qRo0"
      },
      "source": [
        "모델의 레이어들이 리스트로 표현됨\n"
      ]
    },
    {
      "cell_type": "code",
      "metadata": {
        "id": "Tf2F-J8vpi49",
        "colab": {
          "base_uri": "https://localhost:8080/"
        },
        "outputId": "e53d35d5-4648-4b4f-964e-4ba84af4d175"
      },
      "source": [
        "model.layers"
      ],
      "execution_count": null,
      "outputs": [
        {
          "output_type": "execute_result",
          "data": {
            "text/plain": [
              "[<tensorflow.python.keras.engine.input_layer.InputLayer at 0x7fd064d59950>,\n",
              " <tensorflow.python.keras.layers.core.Flatten at 0x7fd064d59b50>,\n",
              " <tensorflow.python.keras.layers.core.Dense at 0x7fd064d59850>,\n",
              " <tensorflow.python.keras.layers.core.Dense at 0x7fd064d59690>,\n",
              " <tensorflow.python.keras.layers.core.Dense at 0x7fd064af3a10>]"
            ]
          },
          "metadata": {
            "tags": []
          },
          "execution_count": 133
        }
      ]
    },
    {
      "cell_type": "code",
      "metadata": {
        "id": "-aHbATTApi0h",
        "colab": {
          "base_uri": "https://localhost:8080/",
          "height": 36
        },
        "outputId": "710621ad-9473-484d-ba90-44707b3a8c9e"
      },
      "source": [
        "# 2번째 레이어의 이름\n",
        "hidden_2 = model.layers[2]\n",
        "hidden_2.name"
      ],
      "execution_count": null,
      "outputs": [
        {
          "output_type": "execute_result",
          "data": {
            "application/vnd.google.colaboratory.intrinsic+json": {
              "type": "string"
            },
            "text/plain": [
              "'dense_133'"
            ]
          },
          "metadata": {
            "tags": []
          },
          "execution_count": 134
        }
      ]
    },
    {
      "cell_type": "markdown",
      "metadata": {
        "id": "t1DREsBb5iJE"
      },
      "source": [
        "위의 layer name 참고"
      ]
    },
    {
      "cell_type": "code",
      "metadata": {
        "id": "nCrffB2wqNW8",
        "colab": {
          "base_uri": "https://localhost:8080/"
        },
        "outputId": "f78f3221-8116-404d-8462-fdfd41eb08a0"
      },
      "source": [
        "model.get_layer('dense_133') is hidden_2"
      ],
      "execution_count": null,
      "outputs": [
        {
          "output_type": "execute_result",
          "data": {
            "text/plain": [
              "True"
            ]
          },
          "metadata": {
            "tags": []
          },
          "execution_count": 136
        }
      ]
    },
    {
      "cell_type": "code",
      "metadata": {
        "id": "OJGopmDxqcO1"
      },
      "source": [
        "weights, biases = hidden_2.get_weights()"
      ],
      "execution_count": null,
      "outputs": []
    },
    {
      "cell_type": "code",
      "metadata": {
        "id": "j7zkvduWqhhw",
        "colab": {
          "base_uri": "https://localhost:8080/"
        },
        "outputId": "9c67258e-2935-42cc-b427-002963bf09fa"
      },
      "source": [
        "weights"
      ],
      "execution_count": null,
      "outputs": [
        {
          "output_type": "execute_result",
          "data": {
            "text/plain": [
              "array([[ 0.05198903, -0.01299543, -0.06839271, ...,  0.04112172,\n",
              "        -0.01403132,  0.03593977],\n",
              "       [-0.04873621,  0.03821569, -0.03423532, ..., -0.05294693,\n",
              "        -0.04401139,  0.02225237],\n",
              "       [ 0.0333132 ,  0.03065906, -0.03706983, ..., -0.0434422 ,\n",
              "         0.04224695,  0.00668919],\n",
              "       ...,\n",
              "       [-0.0616928 , -0.0268052 ,  0.0058846 , ...,  0.0396046 ,\n",
              "         0.02497531,  0.01899204],\n",
              "       [-0.02354757, -0.00757222,  0.04950131, ..., -0.00553529,\n",
              "         0.01222864,  0.06119077],\n",
              "       [-0.05263135,  0.02660277,  0.02485389, ...,  0.06280835,\n",
              "        -0.03738462, -0.04566802]], dtype=float32)"
            ]
          },
          "metadata": {
            "tags": []
          },
          "execution_count": 140
        }
      ]
    },
    {
      "cell_type": "code",
      "metadata": {
        "id": "jZsI7ExUqhcH",
        "colab": {
          "base_uri": "https://localhost:8080/"
        },
        "outputId": "1faf42c0-2b94-4540-dcf6-8f31031a98c7"
      },
      "source": [
        "biases"
      ],
      "execution_count": null,
      "outputs": [
        {
          "output_type": "execute_result",
          "data": {
            "text/plain": [
              "array([0., 0., 0., 0., 0., 0., 0., 0., 0., 0., 0., 0., 0., 0., 0., 0., 0.,\n",
              "       0., 0., 0., 0., 0., 0., 0., 0., 0., 0., 0., 0., 0., 0., 0., 0., 0.,\n",
              "       0., 0., 0., 0., 0., 0., 0., 0., 0., 0., 0., 0., 0., 0., 0., 0., 0.,\n",
              "       0., 0., 0., 0., 0., 0., 0., 0., 0., 0., 0., 0., 0., 0., 0., 0., 0.,\n",
              "       0., 0., 0., 0., 0., 0., 0., 0., 0., 0., 0., 0., 0., 0., 0., 0., 0.,\n",
              "       0., 0., 0., 0., 0., 0., 0., 0., 0., 0., 0., 0., 0., 0., 0., 0., 0.,\n",
              "       0., 0., 0., 0., 0., 0., 0., 0., 0., 0., 0., 0., 0., 0., 0., 0., 0.,\n",
              "       0., 0., 0., 0., 0., 0., 0., 0., 0., 0., 0., 0., 0., 0., 0., 0., 0.,\n",
              "       0., 0., 0., 0., 0., 0., 0., 0., 0., 0., 0., 0., 0., 0., 0., 0., 0.,\n",
              "       0., 0., 0., 0., 0., 0., 0., 0., 0., 0., 0., 0., 0., 0., 0., 0., 0.,\n",
              "       0., 0., 0., 0., 0., 0., 0., 0., 0., 0., 0., 0., 0., 0., 0., 0., 0.,\n",
              "       0., 0., 0., 0., 0., 0., 0., 0., 0., 0., 0., 0., 0., 0., 0., 0., 0.,\n",
              "       0., 0., 0., 0., 0., 0., 0., 0., 0., 0., 0., 0., 0., 0., 0., 0., 0.,\n",
              "       0., 0., 0., 0., 0., 0., 0., 0., 0., 0., 0., 0., 0., 0., 0., 0., 0.,\n",
              "       0., 0., 0., 0., 0., 0., 0., 0., 0., 0., 0., 0., 0., 0., 0., 0., 0.,\n",
              "       0., 0., 0., 0., 0., 0., 0., 0., 0., 0., 0., 0., 0., 0., 0., 0., 0.,\n",
              "       0., 0., 0., 0., 0., 0., 0., 0., 0., 0., 0., 0., 0., 0., 0., 0., 0.,\n",
              "       0., 0., 0., 0., 0., 0., 0., 0., 0., 0., 0.], dtype=float32)"
            ]
          },
          "metadata": {
            "tags": []
          },
          "execution_count": 141
        }
      ]
    },
    {
      "cell_type": "code",
      "metadata": {
        "id": "yS8ljwRlqkMc",
        "colab": {
          "base_uri": "https://localhost:8080/"
        },
        "outputId": "820e6425-630a-4bf8-adca-d111a3310fc0"
      },
      "source": [
        "# input shape(28*28=784), Dense units\n",
        "print(weights.shape)\n",
        "print(biases.shape)"
      ],
      "execution_count": null,
      "outputs": [
        {
          "output_type": "stream",
          "text": [
            "(784, 300)\n",
            "(300,)\n"
          ],
          "name": "stdout"
        }
      ]
    },
    {
      "cell_type": "markdown",
      "metadata": {
        "id": "PTFFAcfb2DSF"
      },
      "source": [
        "## 모델 컴파일(compile)\n",
        "\n",
        "- 모델을 구성한 후, 사용할 손실함수(loss), 옵티마이저(optimizer)를 지정\n"
      ]
    },
    {
      "cell_type": "code",
      "metadata": {
        "id": "jp4t9-iF2xpN"
      },
      "source": [
        "model.compile(loss='sparse_categorical_crossentropy',\n",
        "              optimizer='sgd',\n",
        "              metrics=['accuracy'])"
      ],
      "execution_count": null,
      "outputs": []
    },
    {
      "cell_type": "markdown",
      "metadata": {
        "id": "a8Y5B43W3EmY"
      },
      "source": [
        "### 참고1\n",
        "\n",
        "#### loss\n",
        "- `keras.losses.sparse_categorical_crossentropy` 등과 같이 지정 가능\n",
        "  - `sparse_categorical_crossentropy`  \n",
        "    클래스가 배타적, 즉 MNIST 예제에서 (0, 1, 2, ..., 9)와 같은 방식으로 구분되어 있을 때 사용\n",
        "\n",
        "  - `categorical_cross_entropy`\n",
        "    클래스가 원-핫 인코딩 방식으로 되어 있을 때 사용\n",
        "\n",
        "  - `binary_crossentropy`\n",
        "  이진 분류를 수행할 때 사용\n",
        "\n",
        "\n",
        "#### optimizer\n",
        "- `keras.optimizer.SGD()` 등과 같이 사용 가능\n",
        "  - 보통 옵티마이저의 튜닝을 위해 따로 객체를 생성하여 컴파일    \n",
        "        optimizer = keras.optimizer.SGD(learning_rate=1e-5)  \n",
        "        model.compile(...,\n",
        "                      optimizer=optimzer,\n",
        "                      ...)\n",
        "\n",
        "- `keras.optimizer.Adam()` 도 많이 사용\n",
        "\n",
        "#### metrics\n",
        "- 모니터링할 지표\n",
        "\n",
        "- 주로 'accuracy', 'acc'로도 가능\n"
      ]
    },
    {
      "cell_type": "markdown",
      "metadata": {
        "id": "8k7z79M1Kv-x"
      },
      "source": [
        "### 참고2 - 컴파일 설정 예시\n",
        "- 평균 제곱 오차 회귀 문제  \n",
        "      model.compile(loss = 'mse',  \n",
        "                    optimizer = RMSprop(),  \n",
        "                    metrics=['mae'])\n",
        "\n",
        "- 이진 분류\n",
        "      model.compile(loss = 'binary_crossentropy',  \n",
        "                    optimizer = RMSprop(),  \n",
        "                    metrics=['accuracy])\n",
        "\n",
        "\n",
        "\n",
        "- 다항 분류\n",
        "      model.compile(loss = 'categorical_crossentropy',  \n",
        "                    optimizer = RMSprop(),  \n",
        "                    metrics=['accuracy])\n",
        " \n"
      ]
    },
    {
      "cell_type": "markdown",
      "metadata": {
        "id": "hKAtKRop3AvE"
      },
      "source": [
        "## 모델 훈련, 평가 및 예측\n",
        "- `fit()` 함수\n",
        "\n",
        "  - train_data(학습 데이터), train_label(데이터의 정답)\n",
        "  \n",
        "  - epochs\n",
        "  \n",
        "  - batch_size\n",
        "  \n",
        "  - validation_data\n",
        "\n",
        "- `evaluate()` 함수\n",
        "  - 테스트 데이터\n",
        "\n",
        "\n",
        "- `predict()`\n",
        "  임의의 데이터를 인자로 넣어 예측 가능"
      ]
    },
    {
      "cell_type": "markdown",
      "metadata": {
        "id": "WDPKNEsm2qTQ"
      },
      "source": [
        "## MNIST 예제를 통해 모델 구성하기\n",
        "\n",
        "- keras.datasets 에 포함되어 있는 데이터셋\n",
        "\n",
        "  <img src=\"https://storage.googleapis.com/tfds-data/visualization/fig/mnist-3.0.1.png\" width=\"400\">\n",
        "\n",
        "  <sub>출처: https://www.tensorflow.org/datasets/catalog/mnist</sub>"
      ]
    },
    {
      "cell_type": "markdown",
      "metadata": {
        "id": "Q1CMnkAQGvYE"
      },
      "source": [
        "### modules import"
      ]
    },
    {
      "cell_type": "code",
      "metadata": {
        "id": "1AKwa2VeGxqf"
      },
      "source": [
        "import tensorflow as tf\n",
        "from tensorflow.keras.datasets.mnist import load_data\n",
        "from tensorflow.keras.models import Sequential\n",
        "from tensorflow.keras import models\n",
        "from tensorflow.keras.layers import Dense, Input, Flatten\n",
        "from tensorflow.keras.utils import plot_model, to_categorical\n",
        "\n",
        "from sklearn.model_selection import train_test_split\n",
        "import numpy as np\n",
        "import matplotlib.pyplot as plt\n",
        "plt.style.use('seaborn-white')"
      ],
      "execution_count": 3,
      "outputs": []
    },
    {
      "cell_type": "markdown",
      "metadata": {
        "id": "vEJBVkwzGpsX"
      },
      "source": [
        "### 데이터셋 로드\n",
        "- MNIST 데이터셋을 로드\n",
        "\n",
        "- Train Data 중, 30%를 검증 데이터(validation data)로 사용\n"
      ]
    },
    {
      "cell_type": "code",
      "metadata": {
        "id": "_OGqRrXg2URI"
      },
      "source": [
        "tf.random.set_seed(111)\n",
        "\n",
        "(x_train_full, y_train_full), (x_test, y_test) = load_data(path='mnist.npz')\n",
        "\n",
        "x_train, x_val, y_train, y_val = train_test_split(x_train_full, y_train_full,\n",
        "                                                  test_size=0.3,\n",
        "                                                  random_state=111)"
      ],
      "execution_count": 89,
      "outputs": []
    },
    {
      "cell_type": "markdown",
      "metadata": {
        "id": "Vyci_3GlH52j"
      },
      "source": [
        "### 데이터 확인"
      ]
    },
    {
      "cell_type": "code",
      "metadata": {
        "id": "xYDatr9Q2UsB"
      },
      "source": [
        "num_x_train = x_train.shape[0]\n",
        "num_x_val = x_val.shape[0]\n",
        "num_x_test = x_test.shape[0]"
      ],
      "execution_count": 8,
      "outputs": []
    },
    {
      "cell_type": "code",
      "metadata": {
        "colab": {
          "base_uri": "https://localhost:8080/"
        },
        "id": "F772MFBhp2RC",
        "outputId": "7d7143ea-2a09-4e81-a8cc-e28b43dc95d7"
      },
      "source": [
        "x_train[0]"
      ],
      "execution_count": 90,
      "outputs": [
        {
          "output_type": "execute_result",
          "data": {
            "text/plain": [
              "array([[  0,   0,   0,   0,   0,   0,   0,   0,   0,   0,   0,   0,   0,\n",
              "          0,   0,   0,   0,   0,   0,   0,   0,   0,   0,   0,   0,   0,\n",
              "          0,   0],\n",
              "       [  0,   0,   0,   0,   0,   0,   0,   0,   0,   0,   0,   0,   0,\n",
              "          0,   0,   0,   0,   0,   0,   0,   0,   0,   0,   0,   0,   0,\n",
              "          0,   0],\n",
              "       [  0,   0,   0,   0,   0,   0,   0,   0,   0,   0,   0,   0,   0,\n",
              "          0,   0,   0,   0,   0,   0,   0,   0,   0,   0,   0,   0,   0,\n",
              "          0,   0],\n",
              "       [  0,   0,   0,   0,   0,   0,   0,   0,   0,   0,   0,   0,   0,\n",
              "          0,   0,   0,   0,   0,   0,   0,   0,   0,   0,   0,   0,   0,\n",
              "          0,   0],\n",
              "       [  0,   0,   0,   0,   0,   0,   0,   0,   0,   0,   0,   0,   0,\n",
              "          0,   0,   0,   0,   0,   0,   0,   0,   0,   0,   0,   0,   0,\n",
              "          0,   0],\n",
              "       [  0,   0,   0,   0,   0,   0,   0,   0,   0,   0,   0,   0,  64,\n",
              "        157, 255, 231, 230,  95,   0,   0,   0,   0,   0,   0,   0,   0,\n",
              "          0,   0],\n",
              "       [  0,   0,   0,   0,   0,   0,   0,   0,   0,   0,  10, 198, 253,\n",
              "        254, 254, 254, 254, 204,  58,   0,   0,   0,   0,   0,   0,   0,\n",
              "          0,   0],\n",
              "       [  0,   0,   0,   0,   0,   0,   0,   0,   0,   0,  97, 254, 254,\n",
              "        238,  80,  56, 154, 251, 237, 128,   2,   0,   0,   0,   0,   0,\n",
              "          0,   0],\n",
              "       [  0,   0,   0,   0,   0,   0,   0,   0,   0,   0, 207, 254, 209,\n",
              "         58,   0,   0,   0, 163, 254, 254,  47,   0,   0,   0,   0,   0,\n",
              "          0,   0],\n",
              "       [  0,   0,   0,   0,   0,   0,   0,   0,   0,   0, 207, 254,  68,\n",
              "          0,   0,  13,  97, 229, 254, 210,   4,   0,   0,   0,   0,   0,\n",
              "          0,   0],\n",
              "       [  0,   0,   0,   0,   0,   0,   0,   0,   0,   0, 207, 254, 103,\n",
              "          0,  43, 150, 254, 254, 248,  87,   0,   0,   0,   0,   0,   0,\n",
              "          0,   0],\n",
              "       [  0,   0,   0,   0,   0,   0,   0,   0,   0,   0, 207, 254, 103,\n",
              "         52, 207, 254, 254, 219,  84,   0,   0,   0,   0,   0,   0,   0,\n",
              "          0,   0],\n",
              "       [  0,   0,   0,   0,   0,   0,   0,   0,   0,   0, 117, 254, 192,\n",
              "        235, 254, 254, 196,   6,   0,   0,   0,   0,   0,   0,   0,   0,\n",
              "          0,   0],\n",
              "       [  0,   0,   0,   0,   0,   0,   0,   0,   0,   0,  33, 254, 254,\n",
              "        254, 254, 254, 167,   0,   0,   0,   0,   0,   0,   0,   0,   0,\n",
              "          0,   0],\n",
              "       [  0,   0,   0,   0,   0,   0,   0,   0,   0,   0, 125, 254, 254,\n",
              "        208, 194, 254, 244, 112,   0,   0,   0,   0,   0,   0,   0,   0,\n",
              "          0,   0],\n",
              "       [  0,   0,   0,   0,   0,   0,   0,   0,   0,  30, 237, 254, 254,\n",
              "        131,   0,  25, 188, 254, 163,   5,   0,   0,   0,   0,   0,   0,\n",
              "          0,   0],\n",
              "       [  0,   0,   0,   0,   0,   0,   0,   0,   0, 180, 254, 241,  69,\n",
              "         15,   0,   0,  19, 175, 254, 117,   0,   0,   0,   0,   0,   0,\n",
              "          0,   0],\n",
              "       [  0,   0,   0,   0,   0,   0,   0,   0,   0, 236, 254,  96,   0,\n",
              "          0,   0,   0,   0,  30, 250, 226,  19,   0,   0,   0,   0,   0,\n",
              "          0,   0],\n",
              "       [  0,   0,   0,   0,   0,   0,   0,   0,   0, 236, 254,  75,   0,\n",
              "          0,   0,   0,   0,   3, 194, 254,  47,   0,   0,   0,   0,   0,\n",
              "          0,   0],\n",
              "       [  0,   0,   0,   0,   0,   0,   0,   0,   0, 236, 254,  93,   0,\n",
              "          0,   0,   0,   0,   1, 175, 254,  47,   0,   0,   0,   0,   0,\n",
              "          0,   0],\n",
              "       [  0,   0,   0,   0,   0,   0,   0,   0,   0, 151, 254, 206,  11,\n",
              "          0,   0,   0,   0,   0, 169, 254,  54,   0,   0,   0,   0,   0,\n",
              "          0,   0],\n",
              "       [  0,   0,   0,   0,   0,   0,   0,   0,   0,  14, 189, 254, 134,\n",
              "          0,   0,   0,   0,   4, 198, 254,  75,   0,   0,   0,   0,   0,\n",
              "          0,   0],\n",
              "       [  0,   0,   0,   0,   0,   0,   0,   0,   0,   0,  11, 188, 252,\n",
              "        199,  81,  57,  57, 100, 254, 243,  36,   0,   0,   0,   0,   0,\n",
              "          0,   0],\n",
              "       [  0,   0,   0,   0,   0,   0,   0,   0,   0,   0,   0,  13, 149,\n",
              "        239, 254, 254, 254, 254, 245,  79,   0,   0,   0,   0,   0,   0,\n",
              "          0,   0],\n",
              "       [  0,   0,   0,   0,   0,   0,   0,   0,   0,   0,   0,   0,   0,\n",
              "         32, 135, 184, 169, 121,  46,   0,   0,   0,   0,   0,   0,   0,\n",
              "          0,   0],\n",
              "       [  0,   0,   0,   0,   0,   0,   0,   0,   0,   0,   0,   0,   0,\n",
              "          0,   0,   0,   0,   0,   0,   0,   0,   0,   0,   0,   0,   0,\n",
              "          0,   0],\n",
              "       [  0,   0,   0,   0,   0,   0,   0,   0,   0,   0,   0,   0,   0,\n",
              "          0,   0,   0,   0,   0,   0,   0,   0,   0,   0,   0,   0,   0,\n",
              "          0,   0],\n",
              "       [  0,   0,   0,   0,   0,   0,   0,   0,   0,   0,   0,   0,   0,\n",
              "          0,   0,   0,   0,   0,   0,   0,   0,   0,   0,   0,   0,   0,\n",
              "          0,   0]], dtype=uint8)"
            ]
          },
          "metadata": {
            "tags": []
          },
          "execution_count": 90
        }
      ]
    },
    {
      "cell_type": "code",
      "metadata": {
        "colab": {
          "base_uri": "https://localhost:8080/"
        },
        "id": "cCgb9m4mp91y",
        "outputId": "9cdd5aad-bdef-4d3e-b286-b495c9aaac58"
      },
      "source": [
        "x_train[0]"
      ],
      "execution_count": 92,
      "outputs": [
        {
          "output_type": "execute_result",
          "data": {
            "text/plain": [
              "array([[0.       , 0.       , 0.       , 0.       , 0.       , 0.       ,\n",
              "        0.       , 0.       , 0.       , 0.       , 0.       , 0.       ,\n",
              "        0.       , 0.       , 0.       , 0.       , 0.       , 0.       ,\n",
              "        0.       , 0.       , 0.       , 0.       , 0.       , 0.       ,\n",
              "        0.       , 0.       , 0.       , 0.       ],\n",
              "       [0.       , 0.       , 0.       , 0.       , 0.       , 0.       ,\n",
              "        0.       , 0.       , 0.       , 0.       , 0.       , 0.       ,\n",
              "        0.       , 0.       , 0.       , 0.       , 0.       , 0.       ,\n",
              "        0.       , 0.       , 0.       , 0.       , 0.       , 0.       ,\n",
              "        0.       , 0.       , 0.       , 0.       ],\n",
              "       [0.       , 0.       , 0.       , 0.       , 0.       , 0.       ,\n",
              "        0.       , 0.       , 0.       , 0.       , 0.       , 0.       ,\n",
              "        0.       , 0.       , 0.       , 0.       , 0.       , 0.       ,\n",
              "        0.       , 0.       , 0.       , 0.       , 0.       , 0.       ,\n",
              "        0.       , 0.       , 0.       , 0.       ],\n",
              "       [0.       , 0.       , 0.       , 0.       , 0.       , 0.       ,\n",
              "        0.       , 0.       , 0.       , 0.       , 0.       , 0.       ,\n",
              "        0.       , 0.       , 0.       , 0.       , 0.       , 0.       ,\n",
              "        0.       , 0.       , 0.       , 0.       , 0.       , 0.       ,\n",
              "        0.       , 0.       , 0.       , 0.       ],\n",
              "       [0.       , 0.       , 0.       , 0.       , 0.       , 0.       ,\n",
              "        0.       , 0.       , 0.       , 0.       , 0.       , 0.       ,\n",
              "        0.       , 0.       , 0.       , 0.       , 0.       , 0.       ,\n",
              "        0.       , 0.       , 0.       , 0.       , 0.       , 0.       ,\n",
              "        0.       , 0.       , 0.       , 0.       ],\n",
              "       [0.       , 0.       , 0.       , 0.       , 0.       , 0.       ,\n",
              "        0.       , 0.       , 0.       , 0.       , 0.       , 0.       ,\n",
              "        0.2509804, 0.6156863, 1.       , 0.9058824, 0.9019608, 0.372549 ,\n",
              "        0.       , 0.       , 0.       , 0.       , 0.       , 0.       ,\n",
              "        0.       , 0.       , 0.       , 0.       ],\n",
              "       [0.       , 0.       , 0.       , 0.       , 0.       , 0.       ,\n",
              "        0.       , 0.       , 0.       , 0.       , 0.0392157, 0.7764706,\n",
              "        0.9921569, 0.9960784, 0.9960784, 0.9960784, 0.9960784, 0.8      ,\n",
              "        0.227451 , 0.       , 0.       , 0.       , 0.       , 0.       ,\n",
              "        0.       , 0.       , 0.       , 0.       ],\n",
              "       [0.       , 0.       , 0.       , 0.       , 0.       , 0.       ,\n",
              "        0.       , 0.       , 0.       , 0.       , 0.3803922, 0.9960784,\n",
              "        0.9960784, 0.9333333, 0.3137255, 0.2196078, 0.6039216, 0.9843137,\n",
              "        0.9294118, 0.5019608, 0.0078431, 0.       , 0.       , 0.       ,\n",
              "        0.       , 0.       , 0.       , 0.       ],\n",
              "       [0.       , 0.       , 0.       , 0.       , 0.       , 0.       ,\n",
              "        0.       , 0.       , 0.       , 0.       , 0.8117647, 0.9960784,\n",
              "        0.8196078, 0.227451 , 0.       , 0.       , 0.       , 0.6392157,\n",
              "        0.9960784, 0.9960784, 0.1843137, 0.       , 0.       , 0.       ,\n",
              "        0.       , 0.       , 0.       , 0.       ],\n",
              "       [0.       , 0.       , 0.       , 0.       , 0.       , 0.       ,\n",
              "        0.       , 0.       , 0.       , 0.       , 0.8117647, 0.9960784,\n",
              "        0.2666667, 0.       , 0.       , 0.0509804, 0.3803922, 0.8980392,\n",
              "        0.9960784, 0.8235294, 0.0156863, 0.       , 0.       , 0.       ,\n",
              "        0.       , 0.       , 0.       , 0.       ],\n",
              "       [0.       , 0.       , 0.       , 0.       , 0.       , 0.       ,\n",
              "        0.       , 0.       , 0.       , 0.       , 0.8117647, 0.9960784,\n",
              "        0.4039216, 0.       , 0.1686275, 0.5882353, 0.9960784, 0.9960784,\n",
              "        0.972549 , 0.3411765, 0.       , 0.       , 0.       , 0.       ,\n",
              "        0.       , 0.       , 0.       , 0.       ],\n",
              "       [0.       , 0.       , 0.       , 0.       , 0.       , 0.       ,\n",
              "        0.       , 0.       , 0.       , 0.       , 0.8117647, 0.9960784,\n",
              "        0.4039216, 0.2039216, 0.8117647, 0.9960784, 0.9960784, 0.8588235,\n",
              "        0.3294118, 0.       , 0.       , 0.       , 0.       , 0.       ,\n",
              "        0.       , 0.       , 0.       , 0.       ],\n",
              "       [0.       , 0.       , 0.       , 0.       , 0.       , 0.       ,\n",
              "        0.       , 0.       , 0.       , 0.       , 0.4588235, 0.9960784,\n",
              "        0.7529412, 0.9215686, 0.9960784, 0.9960784, 0.7686275, 0.0235294,\n",
              "        0.       , 0.       , 0.       , 0.       , 0.       , 0.       ,\n",
              "        0.       , 0.       , 0.       , 0.       ],\n",
              "       [0.       , 0.       , 0.       , 0.       , 0.       , 0.       ,\n",
              "        0.       , 0.       , 0.       , 0.       , 0.1294118, 0.9960784,\n",
              "        0.9960784, 0.9960784, 0.9960784, 0.9960784, 0.654902 , 0.       ,\n",
              "        0.       , 0.       , 0.       , 0.       , 0.       , 0.       ,\n",
              "        0.       , 0.       , 0.       , 0.       ],\n",
              "       [0.       , 0.       , 0.       , 0.       , 0.       , 0.       ,\n",
              "        0.       , 0.       , 0.       , 0.       , 0.4901961, 0.9960784,\n",
              "        0.9960784, 0.8156863, 0.7607843, 0.9960784, 0.9568627, 0.4392157,\n",
              "        0.       , 0.       , 0.       , 0.       , 0.       , 0.       ,\n",
              "        0.       , 0.       , 0.       , 0.       ],\n",
              "       [0.       , 0.       , 0.       , 0.       , 0.       , 0.       ,\n",
              "        0.       , 0.       , 0.       , 0.1176471, 0.9294118, 0.9960784,\n",
              "        0.9960784, 0.5137255, 0.       , 0.0980392, 0.7372549, 0.9960784,\n",
              "        0.6392157, 0.0196078, 0.       , 0.       , 0.       , 0.       ,\n",
              "        0.       , 0.       , 0.       , 0.       ],\n",
              "       [0.       , 0.       , 0.       , 0.       , 0.       , 0.       ,\n",
              "        0.       , 0.       , 0.       , 0.7058824, 0.9960784, 0.945098 ,\n",
              "        0.2705882, 0.0588235, 0.       , 0.       , 0.0745098, 0.6862745,\n",
              "        0.9960784, 0.4588235, 0.       , 0.       , 0.       , 0.       ,\n",
              "        0.       , 0.       , 0.       , 0.       ],\n",
              "       [0.       , 0.       , 0.       , 0.       , 0.       , 0.       ,\n",
              "        0.       , 0.       , 0.       , 0.9254902, 0.9960784, 0.3764706,\n",
              "        0.       , 0.       , 0.       , 0.       , 0.       , 0.1176471,\n",
              "        0.9803922, 0.8862745, 0.0745098, 0.       , 0.       , 0.       ,\n",
              "        0.       , 0.       , 0.       , 0.       ],\n",
              "       [0.       , 0.       , 0.       , 0.       , 0.       , 0.       ,\n",
              "        0.       , 0.       , 0.       , 0.9254902, 0.9960784, 0.2941176,\n",
              "        0.       , 0.       , 0.       , 0.       , 0.       , 0.0117647,\n",
              "        0.7607843, 0.9960784, 0.1843137, 0.       , 0.       , 0.       ,\n",
              "        0.       , 0.       , 0.       , 0.       ],\n",
              "       [0.       , 0.       , 0.       , 0.       , 0.       , 0.       ,\n",
              "        0.       , 0.       , 0.       , 0.9254902, 0.9960784, 0.3647059,\n",
              "        0.       , 0.       , 0.       , 0.       , 0.       , 0.0039216,\n",
              "        0.6862745, 0.9960784, 0.1843137, 0.       , 0.       , 0.       ,\n",
              "        0.       , 0.       , 0.       , 0.       ],\n",
              "       [0.       , 0.       , 0.       , 0.       , 0.       , 0.       ,\n",
              "        0.       , 0.       , 0.       , 0.5921569, 0.9960784, 0.8078431,\n",
              "        0.0431373, 0.       , 0.       , 0.       , 0.       , 0.       ,\n",
              "        0.6627451, 0.9960784, 0.2117647, 0.       , 0.       , 0.       ,\n",
              "        0.       , 0.       , 0.       , 0.       ],\n",
              "       [0.       , 0.       , 0.       , 0.       , 0.       , 0.       ,\n",
              "        0.       , 0.       , 0.       , 0.054902 , 0.7411765, 0.9960784,\n",
              "        0.5254902, 0.       , 0.       , 0.       , 0.       , 0.0156863,\n",
              "        0.7764706, 0.9960784, 0.2941176, 0.       , 0.       , 0.       ,\n",
              "        0.       , 0.       , 0.       , 0.       ],\n",
              "       [0.       , 0.       , 0.       , 0.       , 0.       , 0.       ,\n",
              "        0.       , 0.       , 0.       , 0.       , 0.0431373, 0.7372549,\n",
              "        0.9882353, 0.7803922, 0.3176471, 0.2235294, 0.2235294, 0.3921569,\n",
              "        0.9960784, 0.9529412, 0.1411765, 0.       , 0.       , 0.       ,\n",
              "        0.       , 0.       , 0.       , 0.       ],\n",
              "       [0.       , 0.       , 0.       , 0.       , 0.       , 0.       ,\n",
              "        0.       , 0.       , 0.       , 0.       , 0.       , 0.0509804,\n",
              "        0.5843137, 0.9372549, 0.9960784, 0.9960784, 0.9960784, 0.9960784,\n",
              "        0.9607843, 0.3098039, 0.       , 0.       , 0.       , 0.       ,\n",
              "        0.       , 0.       , 0.       , 0.       ],\n",
              "       [0.       , 0.       , 0.       , 0.       , 0.       , 0.       ,\n",
              "        0.       , 0.       , 0.       , 0.       , 0.       , 0.       ,\n",
              "        0.       , 0.1254902, 0.5294118, 0.7215686, 0.6627451, 0.4745098,\n",
              "        0.1803922, 0.       , 0.       , 0.       , 0.       , 0.       ,\n",
              "        0.       , 0.       , 0.       , 0.       ],\n",
              "       [0.       , 0.       , 0.       , 0.       , 0.       , 0.       ,\n",
              "        0.       , 0.       , 0.       , 0.       , 0.       , 0.       ,\n",
              "        0.       , 0.       , 0.       , 0.       , 0.       , 0.       ,\n",
              "        0.       , 0.       , 0.       , 0.       , 0.       , 0.       ,\n",
              "        0.       , 0.       , 0.       , 0.       ],\n",
              "       [0.       , 0.       , 0.       , 0.       , 0.       , 0.       ,\n",
              "        0.       , 0.       , 0.       , 0.       , 0.       , 0.       ,\n",
              "        0.       , 0.       , 0.       , 0.       , 0.       , 0.       ,\n",
              "        0.       , 0.       , 0.       , 0.       , 0.       , 0.       ,\n",
              "        0.       , 0.       , 0.       , 0.       ],\n",
              "       [0.       , 0.       , 0.       , 0.       , 0.       , 0.       ,\n",
              "        0.       , 0.       , 0.       , 0.       , 0.       , 0.       ,\n",
              "        0.       , 0.       , 0.       , 0.       , 0.       , 0.       ,\n",
              "        0.       , 0.       , 0.       , 0.       , 0.       , 0.       ,\n",
              "        0.       , 0.       , 0.       , 0.       ]])"
            ]
          },
          "metadata": {
            "tags": []
          },
          "execution_count": 92
        }
      ]
    },
    {
      "cell_type": "code",
      "metadata": {
        "id": "uqff0qU_2VRV",
        "colab": {
          "base_uri": "https://localhost:8080/"
        },
        "outputId": "8cf11427-8e4c-4a92-ce74-b01002509380"
      },
      "source": [
        "print(\"학습 데이터 : {}\\t레이블 : {}\".format(x_train_full.shape, y_train_full.shape))\n",
        "print(\"학습 데이터 : {}\\t레이블 : {}\".format(x_train.shape, y_train.shape))\n",
        "print(\"검증 데이터 : {}\\t레이블 : {}\".format(x_val.shape, y_val.shape))\n",
        "print(\"테스트 데이터 : {}\\t레이블 : {}\".format(x_test.shape, y_test.shape))"
      ],
      "execution_count": 6,
      "outputs": [
        {
          "output_type": "stream",
          "text": [
            "학습 데이터 : (60000, 28, 28)\t레이블 : (60000,)\n",
            "학습 데이터 : (42000, 28, 28)\t레이블 : (42000,)\n",
            "검증 데이터 : (18000, 28, 28)\t레이블 : (18000,)\n",
            "테스트 데이터 : (10000, 28, 28)\t레이블 : (10000,)\n"
          ],
          "name": "stdout"
        }
      ]
    },
    {
      "cell_type": "code",
      "metadata": {
        "id": "OPlhbVEJ2VNs",
        "colab": {
          "base_uri": "https://localhost:8080/",
          "height": 201
        },
        "outputId": "257ec616-8974-49e7-9536-1c565e602ead"
      },
      "source": [
        "num_sample = 5\n",
        "\n",
        "random_idxs = np.random.randint(60000, size=num_sample)\n",
        "\n",
        "plt.figure(figsize=(14,8))\n",
        "\n",
        "#print(random_idxs)\n",
        "\n",
        "for i, idx in enumerate(random_idxs):\n",
        "  #print(i, idx)\n",
        "  img = x_train_full[idx, :]\n",
        "  label = y_train_full[idx]\n",
        "\n",
        "  plt.subplot(1, len(random_idxs), i+1)\n",
        "  plt.imshow(img)\n",
        "  plt.title(\"Index : {}, Label : {}\".format(idx, label))"
      ],
      "execution_count": 82,
      "outputs": [
        {
          "output_type": "display_data",
          "data": {
            "image/png": "[encoded data removed]",
            "text/plain": [
              "<Figure size 1008x576 with 5 Axes>"
            ]
          },
          "metadata": {
            "tags": []
          }
        }
      ]
    },
    {
      "cell_type": "code",
      "metadata": {
        "id": "I0aqzgMM2VKg",
        "colab": {
          "base_uri": "https://localhost:8080/",
          "height": 305
        },
        "outputId": "9c593448-2eb9-4a8e-e627-c413f72fa952"
      },
      "source": [
        "print(y_train[0])\n",
        "img = x_train[0]\n",
        "plt.imshow(img)"
      ],
      "execution_count": 83,
      "outputs": [
        {
          "output_type": "stream",
          "text": [
            "8\n"
          ],
          "name": "stdout"
        },
        {
          "output_type": "execute_result",
          "data": {
            "text/plain": [
              "<matplotlib.image.AxesImage at 0x7f244894b590>"
            ]
          },
          "metadata": {
            "tags": []
          },
          "execution_count": 83
        },
        {
          "output_type": "display_data",
          "data": {
            "image/png": "[encoded data removed]",
            "text/plain": [
              "<Figure size 432x288 with 1 Axes>"
            ]
          },
          "metadata": {
            "tags": []
          }
        }
      ]
    },
    {
      "cell_type": "markdown",
      "metadata": {
        "id": "Du5KAU8COICG"
      },
      "source": [
        "### 데이터 전처리\n",
        "- Normalization"
      ]
    },
    {
      "cell_type": "code",
      "metadata": {
        "id": "CMvKiV6POJaR"
      },
      "source": [
        "# 색 표현이 0~255 이기 떄문에 0~1 값으로 normalization 시키는것임\n",
        "x_train = x_train / 255.\n",
        "x_val = x_val / 255.\n",
        "x_test = x_test / 255."
      ],
      "execution_count": 91,
      "outputs": []
    },
    {
      "cell_type": "code",
      "metadata": {
        "id": "bMuBGKWxP7DM"
      },
      "source": [
        "y_train = to_categorical(y_train)\n",
        "y_val = to_categorical(y_val)\n",
        "y_test = to_categorical(y_test)"
      ],
      "execution_count": 85,
      "outputs": []
    },
    {
      "cell_type": "code",
      "metadata": {
        "colab": {
          "base_uri": "https://localhost:8080/"
        },
        "id": "KxLxq7vCPORu",
        "outputId": "66c96263-4658-4774-b2af-a0f49bd8b1ef"
      },
      "source": [
        "# Before to_categorical\n",
        "y_train[:10]"
      ],
      "execution_count": 84,
      "outputs": [
        {
          "output_type": "execute_result",
          "data": {
            "text/plain": [
              "array([8, 8, 6, 2, 8, 4, 7, 5, 5, 9], dtype=uint8)"
            ]
          },
          "metadata": {
            "tags": []
          },
          "execution_count": 84
        }
      ]
    },
    {
      "cell_type": "code",
      "metadata": {
        "colab": {
          "base_uri": "https://localhost:8080/"
        },
        "id": "Fe-WBKxQPnJq",
        "outputId": "04d8f165-cec6-4b6e-dcc5-aacf1eb5e59c"
      },
      "source": [
        "# After to_categorical\n",
        "y_train[:10]"
      ],
      "execution_count": 86,
      "outputs": [
        {
          "output_type": "execute_result",
          "data": {
            "text/plain": [
              "array([[0., 0., 0., 0., 0., 0., 0., 0., 1., 0.],\n",
              "       [0., 0., 0., 0., 0., 0., 0., 0., 1., 0.],\n",
              "       [0., 0., 0., 0., 0., 0., 1., 0., 0., 0.],\n",
              "       [0., 0., 1., 0., 0., 0., 0., 0., 0., 0.],\n",
              "       [0., 0., 0., 0., 0., 0., 0., 0., 1., 0.],\n",
              "       [0., 0., 0., 0., 1., 0., 0., 0., 0., 0.],\n",
              "       [0., 0., 0., 0., 0., 0., 0., 1., 0., 0.],\n",
              "       [0., 0., 0., 0., 0., 1., 0., 0., 0., 0.],\n",
              "       [0., 0., 0., 0., 0., 1., 0., 0., 0., 0.],\n",
              "       [0., 0., 0., 0., 0., 0., 0., 0., 0., 1.]], dtype=float32)"
            ]
          },
          "metadata": {
            "tags": []
          },
          "execution_count": 86
        }
      ]
    },
    {
      "cell_type": "markdown",
      "metadata": {
        "id": "S9ke94boKfre"
      },
      "source": [
        "### 모델 구성 (Sequential)"
      ]
    },
    {
      "cell_type": "code",
      "metadata": {
        "id": "ZBfX4bt52UoZ",
        "colab": {
          "base_uri": "https://localhost:8080/"
        },
        "outputId": "b267c33a-1665-40e3-d355-b391268113cd"
      },
      "source": [
        "model = Sequential([Input(shape=(28,28), name='input'),\n",
        "                    Flatten(input_shape=[28,28], name='flatten'),\n",
        "                    Dense(100, activation='relu', name='dense1'),\n",
        "                    Dense(64, activation='relu', name='dense2'),\n",
        "                    Dense(32, activation='relu', name='dense3'),\n",
        "                    # softmax 마지막 output은 숫자 답이 10개 이므로 unit은 10으로 함\n",
        "                    Dense(10, activation='softmax', name='output')])"
      ],
      "execution_count": 31,
      "outputs": [
        {
          "output_type": "stream",
          "text": [
            "WARNING:tensorflow:Please add `keras.layers.InputLayer` instead of `keras.Input` to Sequential model. `keras.Input` is intended to be used by Functional model.\n"
          ],
          "name": "stdout"
        }
      ]
    },
    {
      "cell_type": "code",
      "metadata": {
        "id": "QYsY9ghjO0RW",
        "colab": {
          "base_uri": "https://localhost:8080/"
        },
        "outputId": "c3b68716-c85f-4756-ffc9-50af77954987"
      },
      "source": [
        "model.summary()"
      ],
      "execution_count": 20,
      "outputs": [
        {
          "output_type": "stream",
          "text": [
            "Model: \"sequential\"\n",
            "_________________________________________________________________\n",
            "Layer (type)                 Output Shape              Param #   \n",
            "=================================================================\n",
            "flatten (Flatten)            (None, 784)               0         \n",
            "_________________________________________________________________\n",
            "dense1 (Dense)               (None, 100)               78500     \n",
            "_________________________________________________________________\n",
            "dense2 (Dense)               (None, 64)                6464      \n",
            "_________________________________________________________________\n",
            "dense3 (Dense)               (None, 32)                2080      \n",
            "_________________________________________________________________\n",
            "output (Dense)               (None, 10)                330       \n",
            "=================================================================\n",
            "Total params: 87,374\n",
            "Trainable params: 87,374\n",
            "Non-trainable params: 0\n",
            "_________________________________________________________________\n"
          ],
          "name": "stdout"
        }
      ]
    },
    {
      "cell_type": "code",
      "metadata": {
        "id": "zE-EHHkK2UMG",
        "colab": {
          "base_uri": "https://localhost:8080/",
          "height": 644
        },
        "outputId": "095bab2f-6621-4bda-c07d-d51064981a70"
      },
      "source": [
        "plot_model(model, show_shapes=True)"
      ],
      "execution_count": 22,
      "outputs": [
        {
          "output_type": "execute_result",
          "data": {
            "image/png": "[encoded data removed]",
            "text/plain": [
              "<IPython.core.display.Image object>"
            ]
          },
          "metadata": {
            "tags": []
          },
          "execution_count": 22
        }
      ]
    },
    {
      "cell_type": "code",
      "metadata": {
        "id": "KW7h-7mR26Xf"
      },
      "source": [
        "test = [[1,2],[3,4]]"
      ],
      "execution_count": 25,
      "outputs": []
    },
    {
      "cell_type": "markdown",
      "metadata": {
        "id": "ttXdLuQsQE_k"
      },
      "source": [
        "### 모델 컴파일"
      ]
    },
    {
      "cell_type": "code",
      "metadata": {
        "id": "EXld9Ehd2UJW"
      },
      "source": [
        "model.compile(loss='categorical_crossentropy',\n",
        "              optimizer='sgd',\n",
        "              metrics=['accuracy'])"
      ],
      "execution_count": 33,
      "outputs": []
    },
    {
      "cell_type": "markdown",
      "metadata": {
        "id": "TeRlwrsNQUP_"
      },
      "source": [
        "### 모델 학습\n",
        "- 모델 시각화를 위해 history라는 변수에 학습 과정을 담음"
      ]
    },
    {
      "cell_type": "code",
      "metadata": {
        "id": "5TaYebESQT0X",
        "colab": {
          "base_uri": "https://localhost:8080/"
        },
        "outputId": "eeb74cf3-7760-4c91-db9b-1872e0268da6"
      },
      "source": [
        "history = model.fit(x_train, y_train,\n",
        "                    epochs=50,\n",
        "                    batch_size=128,\n",
        "                    validation_data=(x_val, y_val))"
      ],
      "execution_count": 34,
      "outputs": [
        {
          "output_type": "stream",
          "text": [
            "Epoch 1/50\n",
            "329/329 [==============================] - 2s 4ms/step - loss: 1.7780 - accuracy: 0.4878 - val_loss: 1.0713 - val_accuracy: 0.7389\n",
            "Epoch 2/50\n",
            "329/329 [==============================] - 1s 3ms/step - loss: 0.7363 - accuracy: 0.8097 - val_loss: 0.5506 - val_accuracy: 0.8498\n",
            "Epoch 3/50\n",
            "329/329 [==============================] - 1s 3ms/step - loss: 0.4761 - accuracy: 0.8680 - val_loss: 0.4228 - val_accuracy: 0.8779\n",
            "Epoch 4/50\n",
            "329/329 [==============================] - 1s 3ms/step - loss: 0.3942 - accuracy: 0.8883 - val_loss: 0.3770 - val_accuracy: 0.8881\n",
            "Epoch 5/50\n",
            "329/329 [==============================] - 1s 3ms/step - loss: 0.3519 - accuracy: 0.8975 - val_loss: 0.3411 - val_accuracy: 0.8982\n",
            "Epoch 6/50\n",
            "329/329 [==============================] - 1s 3ms/step - loss: 0.3241 - accuracy: 0.9068 - val_loss: 0.3242 - val_accuracy: 0.9038\n",
            "Epoch 7/50\n",
            "329/329 [==============================] - 1s 3ms/step - loss: 0.3029 - accuracy: 0.9126 - val_loss: 0.3300 - val_accuracy: 0.9019\n",
            "Epoch 8/50\n",
            "329/329 [==============================] - 1s 3ms/step - loss: 0.2862 - accuracy: 0.9177 - val_loss: 0.2808 - val_accuracy: 0.9170\n",
            "Epoch 9/50\n",
            "329/329 [==============================] - 1s 2ms/step - loss: 0.2717 - accuracy: 0.9221 - val_loss: 0.2840 - val_accuracy: 0.9159\n",
            "Epoch 10/50\n",
            "329/329 [==============================] - 1s 3ms/step - loss: 0.2593 - accuracy: 0.9251 - val_loss: 0.2676 - val_accuracy: 0.9211\n",
            "Epoch 11/50\n",
            "329/329 [==============================] - 1s 3ms/step - loss: 0.2482 - accuracy: 0.9284 - val_loss: 0.2531 - val_accuracy: 0.9249\n",
            "Epoch 12/50\n",
            "329/329 [==============================] - 1s 3ms/step - loss: 0.2383 - accuracy: 0.9314 - val_loss: 0.2722 - val_accuracy: 0.9198\n",
            "Epoch 13/50\n",
            "329/329 [==============================] - 1s 3ms/step - loss: 0.2294 - accuracy: 0.9339 - val_loss: 0.2359 - val_accuracy: 0.9310\n",
            "Epoch 14/50\n",
            "329/329 [==============================] - 1s 3ms/step - loss: 0.2208 - accuracy: 0.9367 - val_loss: 0.2363 - val_accuracy: 0.9296\n",
            "Epoch 15/50\n",
            "329/329 [==============================] - 1s 3ms/step - loss: 0.2131 - accuracy: 0.9385 - val_loss: 0.2255 - val_accuracy: 0.9331\n",
            "Epoch 16/50\n",
            "329/329 [==============================] - 1s 3ms/step - loss: 0.2062 - accuracy: 0.9412 - val_loss: 0.2195 - val_accuracy: 0.9352\n",
            "Epoch 17/50\n",
            "329/329 [==============================] - 1s 3ms/step - loss: 0.1993 - accuracy: 0.9426 - val_loss: 0.2139 - val_accuracy: 0.9369\n",
            "Epoch 18/50\n",
            "329/329 [==============================] - 1s 3ms/step - loss: 0.1928 - accuracy: 0.9445 - val_loss: 0.2240 - val_accuracy: 0.9347\n",
            "Epoch 19/50\n",
            "329/329 [==============================] - 1s 3ms/step - loss: 0.1872 - accuracy: 0.9463 - val_loss: 0.2018 - val_accuracy: 0.9396\n",
            "Epoch 20/50\n",
            "329/329 [==============================] - 1s 3ms/step - loss: 0.1814 - accuracy: 0.9479 - val_loss: 0.2332 - val_accuracy: 0.9313\n",
            "Epoch 21/50\n",
            "329/329 [==============================] - 1s 3ms/step - loss: 0.1764 - accuracy: 0.9493 - val_loss: 0.1930 - val_accuracy: 0.9435\n",
            "Epoch 22/50\n",
            "329/329 [==============================] - 1s 3ms/step - loss: 0.1709 - accuracy: 0.9516 - val_loss: 0.1950 - val_accuracy: 0.9421\n",
            "Epoch 23/50\n",
            "329/329 [==============================] - 1s 3ms/step - loss: 0.1665 - accuracy: 0.9521 - val_loss: 0.1889 - val_accuracy: 0.9451\n",
            "Epoch 24/50\n",
            "329/329 [==============================] - 1s 3ms/step - loss: 0.1614 - accuracy: 0.9538 - val_loss: 0.1866 - val_accuracy: 0.9438\n",
            "Epoch 25/50\n",
            "329/329 [==============================] - 1s 3ms/step - loss: 0.1575 - accuracy: 0.9542 - val_loss: 0.1851 - val_accuracy: 0.9461\n",
            "Epoch 26/50\n",
            "329/329 [==============================] - 1s 3ms/step - loss: 0.1530 - accuracy: 0.9560 - val_loss: 0.1748 - val_accuracy: 0.9487\n",
            "Epoch 27/50\n",
            "329/329 [==============================] - 1s 3ms/step - loss: 0.1490 - accuracy: 0.9572 - val_loss: 0.1720 - val_accuracy: 0.9493\n",
            "Epoch 28/50\n",
            "329/329 [==============================] - 1s 3ms/step - loss: 0.1453 - accuracy: 0.9583 - val_loss: 0.1702 - val_accuracy: 0.9498\n",
            "Epoch 29/50\n",
            "329/329 [==============================] - 1s 3ms/step - loss: 0.1414 - accuracy: 0.9591 - val_loss: 0.1677 - val_accuracy: 0.9522\n",
            "Epoch 30/50\n",
            "329/329 [==============================] - 1s 3ms/step - loss: 0.1378 - accuracy: 0.9601 - val_loss: 0.1648 - val_accuracy: 0.9530\n",
            "Epoch 31/50\n",
            "329/329 [==============================] - 1s 3ms/step - loss: 0.1344 - accuracy: 0.9611 - val_loss: 0.1599 - val_accuracy: 0.9537\n",
            "Epoch 32/50\n",
            "329/329 [==============================] - 1s 3ms/step - loss: 0.1313 - accuracy: 0.9631 - val_loss: 0.1642 - val_accuracy: 0.9516\n",
            "Epoch 33/50\n",
            "329/329 [==============================] - 1s 3ms/step - loss: 0.1279 - accuracy: 0.9635 - val_loss: 0.1585 - val_accuracy: 0.9526\n",
            "Epoch 34/50\n",
            "329/329 [==============================] - 1s 3ms/step - loss: 0.1248 - accuracy: 0.9646 - val_loss: 0.1641 - val_accuracy: 0.9518\n",
            "Epoch 35/50\n",
            "329/329 [==============================] - 1s 3ms/step - loss: 0.1219 - accuracy: 0.9656 - val_loss: 0.1528 - val_accuracy: 0.9552\n",
            "Epoch 36/50\n",
            "329/329 [==============================] - 1s 3ms/step - loss: 0.1193 - accuracy: 0.9655 - val_loss: 0.1539 - val_accuracy: 0.9542\n",
            "Epoch 37/50\n",
            "329/329 [==============================] - 1s 3ms/step - loss: 0.1165 - accuracy: 0.9668 - val_loss: 0.1503 - val_accuracy: 0.9565\n",
            "Epoch 38/50\n",
            "329/329 [==============================] - 1s 3ms/step - loss: 0.1136 - accuracy: 0.9681 - val_loss: 0.1455 - val_accuracy: 0.9581\n",
            "Epoch 39/50\n",
            "329/329 [==============================] - 1s 3ms/step - loss: 0.1111 - accuracy: 0.9683 - val_loss: 0.1462 - val_accuracy: 0.9575\n",
            "Epoch 40/50\n",
            "329/329 [==============================] - 1s 3ms/step - loss: 0.1089 - accuracy: 0.9689 - val_loss: 0.1470 - val_accuracy: 0.9568\n",
            "Epoch 41/50\n",
            "329/329 [==============================] - 1s 3ms/step - loss: 0.1066 - accuracy: 0.9701 - val_loss: 0.1417 - val_accuracy: 0.9582\n",
            "Epoch 42/50\n",
            "329/329 [==============================] - 1s 3ms/step - loss: 0.1039 - accuracy: 0.9708 - val_loss: 0.1569 - val_accuracy: 0.9535\n",
            "Epoch 43/50\n",
            "329/329 [==============================] - 1s 3ms/step - loss: 0.1015 - accuracy: 0.9713 - val_loss: 0.1424 - val_accuracy: 0.9582\n",
            "Epoch 44/50\n",
            "329/329 [==============================] - 1s 3ms/step - loss: 0.0994 - accuracy: 0.9724 - val_loss: 0.1381 - val_accuracy: 0.9598\n",
            "Epoch 45/50\n",
            "329/329 [==============================] - 1s 3ms/step - loss: 0.0972 - accuracy: 0.9735 - val_loss: 0.1391 - val_accuracy: 0.9594\n",
            "Epoch 46/50\n",
            "329/329 [==============================] - 1s 3ms/step - loss: 0.0952 - accuracy: 0.9733 - val_loss: 0.1373 - val_accuracy: 0.9598\n",
            "Epoch 47/50\n",
            "329/329 [==============================] - 1s 3ms/step - loss: 0.0933 - accuracy: 0.9741 - val_loss: 0.1374 - val_accuracy: 0.9584\n",
            "Epoch 48/50\n",
            "329/329 [==============================] - 1s 3ms/step - loss: 0.0910 - accuracy: 0.9750 - val_loss: 0.1334 - val_accuracy: 0.9612\n",
            "Epoch 49/50\n",
            "329/329 [==============================] - 1s 3ms/step - loss: 0.0893 - accuracy: 0.9748 - val_loss: 0.1298 - val_accuracy: 0.9622\n",
            "Epoch 50/50\n",
            "329/329 [==============================] - 1s 3ms/step - loss: 0.0875 - accuracy: 0.9759 - val_loss: 0.1306 - val_accuracy: 0.9619\n"
          ],
          "name": "stdout"
        }
      ]
    },
    {
      "cell_type": "markdown",
      "metadata": {
        "id": "0XaPJX7sRVzi"
      },
      "source": [
        "### 학습 결과 시각화"
      ]
    },
    {
      "cell_type": "code",
      "metadata": {
        "id": "vAnCqu9ARVTw",
        "colab": {
          "base_uri": "https://localhost:8080/"
        },
        "outputId": "48cbeffc-c506-4e2c-d529-495a675835d0"
      },
      "source": [
        "history.history.keys()"
      ],
      "execution_count": 36,
      "outputs": [
        {
          "output_type": "execute_result",
          "data": {
            "text/plain": [
              "dict_keys(['loss', 'accuracy', 'val_loss', 'val_accuracy'])"
            ]
          },
          "metadata": {
            "tags": []
          },
          "execution_count": 36
        }
      ]
    },
    {
      "cell_type": "code",
      "metadata": {
        "id": "MHfJkN2lRVOc",
        "colab": {
          "base_uri": "https://localhost:8080/",
          "height": 400
        },
        "outputId": "2650d8c3-b571-4ff7-f34b-7b7532ba0821"
      },
      "source": [
        "history_dict = history.history\n",
        "\n",
        "loss = history_dict['loss']\n",
        "val_loss = history_dict['val_loss']\n",
        "\n",
        "epochs = range(1, len(loss)+1)\n",
        "fig = plt.figure(figsize=(12,6))\n",
        "\n",
        "ax1 = fig.add_subplot(1, 2, 1)\n",
        "ax1.plot(epochs, loss, color='blue', label='train_loss')\n",
        "ax1.plot(epochs, val_loss, color='red', label='val_loss')\n",
        "ax1.set_title('Train and Validation Loss')\n",
        "ax1.set_xlabel('Epochs')\n",
        "ax1.set_ylabel('Loss')\n",
        "ax1.grid()\n",
        "ax1.legend()\n",
        "\n",
        "accuracy = history_dict['accuracy']\n",
        "val_accuracy = history_dict['val_accuracy']\n",
        "\n",
        "ax2 = fig.add_subplot(1, 2, 2)\n",
        "ax2.plot(epochs, accuracy, color='blue', label='train_accuracy')\n",
        "ax2.plot(epochs, val_accuracy, color='red', label='val_accuracy')\n",
        "ax2.set_title('Train and Validation Accuracy')\n",
        "ax2.set_xlabel('Epochs')\n",
        "ax2.set_ylabel('Accuracy')\n",
        "ax2.grid()\n",
        "ax2.legend()\n",
        "\n",
        "plt.show()"
      ],
      "execution_count": 39,
      "outputs": [
        {
          "output_type": "display_data",
          "data": {
            "image/png": "[encoded data removed]",
            "text/plain": [
              "<Figure size 864x432 with 2 Axes>"
            ]
          },
          "metadata": {
            "tags": []
          }
        }
      ]
    },
    {
      "cell_type": "markdown",
      "metadata": {
        "id": "Gwl7tQLcTZnW"
      },
      "source": [
        "### 모델 평가 (1)\n",
        "- evaluate"
      ]
    },
    {
      "cell_type": "code",
      "metadata": {
        "id": "gX7HcpeoTZGU",
        "colab": {
          "base_uri": "https://localhost:8080/"
        },
        "outputId": "91629ab1-11a6-4fa7-81cf-3a1eb4977cdf"
      },
      "source": [
        "model.evaluate(x_test, y_test)"
      ],
      "execution_count": 40,
      "outputs": [
        {
          "output_type": "stream",
          "text": [
            "313/313 [==============================] - 0s 840us/step - loss: 0.1199 - accuracy: 0.9639\n"
          ],
          "name": "stdout"
        },
        {
          "output_type": "execute_result",
          "data": {
            "text/plain": [
              "[0.11994423717260361, 0.9639000296592712]"
            ]
          },
          "metadata": {
            "tags": []
          },
          "execution_count": 40
        }
      ]
    },
    {
      "cell_type": "markdown",
      "metadata": {
        "id": "ZIV4MhWSTtqH"
      },
      "source": [
        "### 학습된 모델을 통해 값 예측"
      ]
    },
    {
      "cell_type": "code",
      "metadata": {
        "id": "te5Wt3jFTY8g",
        "colab": {
          "base_uri": "https://localhost:8080/"
        },
        "outputId": "f7b9cc6b-9f8a-4566-d72d-cdd85983e8ce"
      },
      "source": [
        "print(x_test.shape)\n",
        "print(y_test.shape)\n",
        "print(y_test[0])\n",
        "\n",
        "pred_ys = model.predict(x_test)\n",
        "print(pred_ys.shape)\n",
        "\n",
        "# 7자리\n",
        "np.set_printoptions(precision=7)\n",
        "print(pred_ys[0])\n",
        "print(pred_ys.shape)\n",
        "# (10000, 28, 28)\n",
        "# (10000, 10)\n",
        "# [1.0719896e-05 6.1174472e-07 7.9064404e-05 1.8148187e-03 1.5972597e-07\n",
        "#  5.7580864e-06 7.8117131e-12 9.9804759e-01 1.0813986e-06 4.0038245e-05]"
      ],
      "execution_count": 55,
      "outputs": [
        {
          "output_type": "stream",
          "text": [
            "(10000, 28, 28)\n",
            "(10000, 10)\n",
            "[0. 0. 0. 0. 0. 0. 0. 1. 0. 0.]\n",
            "(10000, 10)\n",
            "[1.0719896e-05 6.1174472e-07 7.9064404e-05 1.8148187e-03 1.5972597e-07\n",
            " 5.7580864e-06 7.8117131e-12 9.9804759e-01 1.0813986e-06 4.0038245e-05]\n",
            "(10000, 10)\n"
          ],
          "name": "stdout"
        }
      ]
    },
    {
      "cell_type": "code",
      "metadata": {
        "id": "uJHPRGpMTnnM",
        "colab": {
          "base_uri": "https://localhost:8080/",
          "height": 295
        },
        "outputId": "d9a86d68-dfa4-459c-9c0a-8e735f059e31"
      },
      "source": [
        "arg_pred_y = np.argmax(pred_ys, axis=1)\n",
        "plt.imshow(x_test[0])\n",
        "plt.title(\"predicted label : {}\".format(arg_pred_y[0]))"
      ],
      "execution_count": 53,
      "outputs": [
        {
          "output_type": "execute_result",
          "data": {
            "text/plain": [
              "Text(0.5, 1.0, 'label : 7')"
            ]
          },
          "metadata": {
            "tags": []
          },
          "execution_count": 53
        },
        {
          "output_type": "display_data",
          "data": {
            "image/png": "[encoded data removed]",
            "text/plain": [
              "<Figure size 432x288 with 1 Axes>"
            ]
          },
          "metadata": {
            "tags": []
          }
        }
      ]
    },
    {
      "cell_type": "markdown",
      "metadata": {
        "id": "G6ypcp0iVyjj"
      },
      "source": [
        "### 모델 평가 (2)\n",
        "- 혼동행렬 (Confusion Maxtrix)"
      ]
    },
    {
      "cell_type": "code",
      "metadata": {
        "id": "8fN2G31JTnrY"
      },
      "source": [
        "from sklearn.metrics import classification_report, confusion_matrix\n",
        "import seaborn as sns\n",
        "sns.set(style='white')"
      ],
      "execution_count": 56,
      "outputs": []
    },
    {
      "cell_type": "code",
      "metadata": {
        "id": "IPX11GMeTnt-",
        "colab": {
          "base_uri": "https://localhost:8080/",
          "height": 502
        },
        "outputId": "e0a38e93-7d45-483d-efcb-3da878ce4aa0"
      },
      "source": [
        "plt.figure(figsize=(8,8))\n",
        "# 전체의 실제 label과 predict의 비교\n",
        "cm = confusion_matrix(np.argmax(y_test, axis=-1), np.argmax(pred_ys, axis=-1))\n",
        "sns.heatmap(cm, annot=True, fmt='d', cmap='Blues')\n",
        "plt.xlabel('Predicted Label')\n",
        "plt.ylabel('True Label')\n",
        "plt.show()"
      ],
      "execution_count": 62,
      "outputs": [
        {
          "output_type": "display_data",
          "data": {
            "image/png": "[encoded data removed]",
            "text/plain": [
              "<Figure size 576x576 with 2 Axes>"
            ]
          },
          "metadata": {
            "tags": []
          }
        }
      ]
    },
    {
      "cell_type": "markdown",
      "metadata": {
        "id": "BMo2g1TZWctY"
      },
      "source": [
        "### 모델 평가 (3)\n",
        "- 분류 보고서"
      ]
    },
    {
      "cell_type": "code",
      "metadata": {
        "id": "J1n_j_h4TnjP",
        "colab": {
          "base_uri": "https://localhost:8080/"
        },
        "outputId": "ad05b77d-ef94-4d89-d7a3-683e4c6c2bc0"
      },
      "source": [
        "print(classification_report(np.argmax(y_test, axis=-1), np.argmax(pred_ys, axis=-1)))"
      ],
      "execution_count": 66,
      "outputs": [
        {
          "output_type": "stream",
          "text": [
            "              precision    recall  f1-score   support\n",
            "\n",
            "           0       0.97      0.99      0.98       980\n",
            "           1       0.98      0.99      0.98      1135\n",
            "           2       0.98      0.96      0.97      1032\n",
            "           3       0.93      0.98      0.96      1010\n",
            "           4       0.96      0.96      0.96       982\n",
            "           5       0.97      0.94      0.96       892\n",
            "           6       0.97      0.97      0.97       958\n",
            "           7       0.95      0.96      0.96      1028\n",
            "           8       0.95      0.94      0.94       974\n",
            "           9       0.96      0.95      0.95      1009\n",
            "\n",
            "    accuracy                           0.96     10000\n",
            "   macro avg       0.96      0.96      0.96     10000\n",
            "weighted avg       0.96      0.96      0.96     10000\n",
            "\n"
          ],
          "name": "stdout"
        }
      ]
    },
    {
      "cell_type": "markdown",
      "metadata": {
        "id": "6VWo95AB0W2v"
      },
      "source": [
        "## 모델 저장과 복원\n",
        "- `save()`\n",
        "\n",
        "- `load_model()`\n",
        "\n",
        "- (주의)  \n",
        "  시퀀셜 API, 함수형 API에서는 **모델**의 저장 및 로드기 가능하지만 서브클래싱 방식으로는 할 수 없음  \n",
        "  \n",
        "  서브클래싱 방식\n",
        "      save_weights()\n",
        "      load_weights()  \n",
        "  위 두가지를 통해 **모델의 파라미터**만 저장 및 로드\n",
        "\n",
        "\n",
        "- JSON 형식\n",
        "  - `model.to_json()` (저장)\n",
        "\n",
        "  - `tf.keras.models.model_from_json(file_path)` (복원)\n",
        "\n",
        "- YAML로 직렬화\n",
        "  - `model.to_yaml()` (저장)\n",
        "\n",
        "  - `tf.keras.models.model_from_yaml(file_path)` (복원)\n"
      ]
    },
    {
      "cell_type": "code",
      "metadata": {
        "id": "qI-OJUAvtkZs"
      },
      "source": [
        "model.save('mnist_model.h5')"
      ],
      "execution_count": 67,
      "outputs": []
    },
    {
      "cell_type": "code",
      "metadata": {
        "id": "CKkUgRlEX9yN"
      },
      "source": [
        "loaded_model = models.load_model('mnist_model.h5')"
      ],
      "execution_count": 68,
      "outputs": []
    },
    {
      "cell_type": "code",
      "metadata": {
        "colab": {
          "base_uri": "https://localhost:8080/"
        },
        "id": "y1GJnwocf12B",
        "outputId": "d1811d76-f0ab-4a6c-e42b-f367babe7ecb"
      },
      "source": [
        "loaded_model.summary()"
      ],
      "execution_count": 69,
      "outputs": [
        {
          "output_type": "stream",
          "text": [
            "Model: \"sequential_1\"\n",
            "_________________________________________________________________\n",
            "Layer (type)                 Output Shape              Param #   \n",
            "=================================================================\n",
            "flatten (Flatten)            (None, 784)               0         \n",
            "_________________________________________________________________\n",
            "dense1 (Dense)               (None, 100)               78500     \n",
            "_________________________________________________________________\n",
            "dense2 (Dense)               (None, 64)                6464      \n",
            "_________________________________________________________________\n",
            "dense3 (Dense)               (None, 32)                2080      \n",
            "_________________________________________________________________\n",
            "output (Dense)               (None, 10)                330       \n",
            "=================================================================\n",
            "Total params: 87,374\n",
            "Trainable params: 87,374\n",
            "Non-trainable params: 0\n",
            "_________________________________________________________________\n"
          ],
          "name": "stdout"
        }
      ]
    },
    {
      "cell_type": "markdown",
      "metadata": {
        "id": "vwprko04qWeg"
      },
      "source": [
        "## 콜백 (Callbacks)\n",
        "\n",
        "- `fit()` 함수의 callbacks 매개변수를 사용하여 케라스가 훈련의 시작이나 끝에 호출할 객체 리스트를 지정할 수 있음\n",
        "\n",
        "- 여러 개 사용 가능\n",
        "\n",
        "- ModelCheckpoint\n",
        "  - `tf.keras.callbacks.ModelCheckpoint`\n",
        "  - 정기적으로 모델의 체크포인트를 저장하고, 문제가 발생할 때 복구하는데 사용\n",
        "\n",
        "- EarlyStopping\n",
        "  - `tf.keras.callbacks.EarlyStopping`\n",
        "  - 검증 성능이 한동안 개선되지 않을 경우 학습을 중단할 때 사용\n",
        "\n",
        "- LearningRateSchduler\n",
        "  - `tf.keras.callbacks.LearningRateSchduler`\n",
        "  - 최적화를 하는 동안 학습률(learning_rate)를 동적으로 변경할 때 사용\n",
        "\n",
        "- TensorBoard\n",
        "  - `tf.keras.callbacks.TensorBoard`\n",
        "  - 모델의 경과를 모니터링할 때 사용\n"
      ]
    },
    {
      "cell_type": "code",
      "metadata": {
        "id": "0_oKQ3gw4Gtp",
        "colab": {
          "base_uri": "https://localhost:8080/"
        },
        "outputId": "248afb06-5138-4ad3-9603-247f581fb8d5"
      },
      "source": [
        "(x_train_full, y_train_full), (x_test, y_test) = load_data(path='mnist.npz')\n",
        "\n",
        "x_train, x_val, y_train, y_val = train_test_split(x_train_full, y_train_full,\n",
        "                                                  test_size=0.3,\n",
        "                                                  random_state=111)\n",
        "\n",
        "print(\"학습 데이터 : {}\\t레이블 : {}\".format(x_train_full.shape, y_train_full.shape))\n",
        "print(\"학습 데이터 : {}\\t레이블 : {}\".format(x_train.shape, y_train.shape))\n",
        "print(\"검증 데이터 : {}\\t레이블 : {}\".format(x_val.shape, y_val.shape))\n",
        "print(\"테스트 데이터 : {}\\t레이블 : {}\".format(x_test.shape, y_test.shape))\n",
        "\n",
        "# 색 표현이 0~255 이기 떄문에 0~1 값으로 normalization 시키는것임\n",
        "x_train = x_train / 255.\n",
        "x_val = x_val / 255.\n",
        "x_test = x_test / 255.\n",
        "\n",
        "y_train = to_categorical(y_train)\n",
        "y_val = to_categorical(y_val)\n",
        "y_test = to_categorical(y_test)\n",
        "\n",
        "def build_model():\n",
        "  model = Sequential([Input(shape=(28,28), name='input'),\n",
        "                    Flatten(input_shape=[28,28], name='flatten'),\n",
        "                    Dense(100, activation='relu', name='dense1'),\n",
        "                    Dense(64, activation='relu', name='dense2'),\n",
        "                    Dense(32, activation='relu', name='dense3'),\n",
        "                    # softmax 마지막 output은 숫자 답이 10개 이므로 unit은 10으로 함\n",
        "                    Dense(10, activation='softmax', name='output')])\n",
        "  \n",
        "  model.compile(loss='categorical_crossentropy',\n",
        "                optimizer='sgd',\n",
        "                metrics=['accuracy'])\n",
        "  return model\n",
        "\n",
        "model = build_model()\n",
        "\n",
        "model.summary()"
      ],
      "execution_count": 70,
      "outputs": [
        {
          "output_type": "stream",
          "text": [
            "학습 데이터 : (60000, 28, 28)\t레이블 : (60000,)\n",
            "학습 데이터 : (42000, 28, 28)\t레이블 : (42000,)\n",
            "검증 데이터 : (18000, 28, 28)\t레이블 : (18000,)\n",
            "테스트 데이터 : (10000, 28, 28)\t레이블 : (10000,)\n",
            "WARNING:tensorflow:Please add `keras.layers.InputLayer` instead of `keras.Input` to Sequential model. `keras.Input` is intended to be used by Functional model.\n",
            "Model: \"sequential_2\"\n",
            "_________________________________________________________________\n",
            "Layer (type)                 Output Shape              Param #   \n",
            "=================================================================\n",
            "flatten (Flatten)            (None, 784)               0         \n",
            "_________________________________________________________________\n",
            "dense1 (Dense)               (None, 100)               78500     \n",
            "_________________________________________________________________\n",
            "dense2 (Dense)               (None, 64)                6464      \n",
            "_________________________________________________________________\n",
            "dense3 (Dense)               (None, 32)                2080      \n",
            "_________________________________________________________________\n",
            "output (Dense)               (None, 10)                330       \n",
            "=================================================================\n",
            "Total params: 87,374\n",
            "Trainable params: 87,374\n",
            "Non-trainable params: 0\n",
            "_________________________________________________________________\n"
          ],
          "name": "stdout"
        }
      ]
    },
    {
      "cell_type": "code",
      "metadata": {
        "id": "ENnkJ6Qq2JQm"
      },
      "source": [
        "from tensorflow.keras.models import load_model\n",
        "from tensorflow.keras.callbacks import ModelCheckpoint, EarlyStopping, LearningRateScheduler, TensorBoard"
      ],
      "execution_count": 76,
      "outputs": []
    },
    {
      "cell_type": "markdown",
      "metadata": {
        "id": "xNBMnd5IgE8H"
      },
      "source": [
        "### ModelCheckpoint"
      ]
    },
    {
      "cell_type": "code",
      "metadata": {
        "id": "tVOIVgBnqdIg",
        "colab": {
          "base_uri": "https://localhost:8080/"
        },
        "outputId": "b756a511-8ec4-44b3-d67f-017875baf1e0"
      },
      "source": [
        "check_point_cb = ModelCheckpoint('keras_mnist_model.h5')\n",
        "history = model.fit(x_train, y_train, epochs=10, callbacks=[check_point_cb])"
      ],
      "execution_count": 73,
      "outputs": [
        {
          "output_type": "stream",
          "text": [
            "Epoch 1/10\n",
            "1313/1313 [==============================] - 2s 1ms/step - loss: 0.7993 - accuracy: 0.7742\n",
            "Epoch 2/10\n",
            "1313/1313 [==============================] - 2s 1ms/step - loss: 0.3224 - accuracy: 0.9068\n",
            "Epoch 3/10\n",
            "1313/1313 [==============================] - 2s 1ms/step - loss: 0.2615 - accuracy: 0.9246\n",
            "Epoch 4/10\n",
            "1313/1313 [==============================] - 2s 1ms/step - loss: 0.2238 - accuracy: 0.9357\n",
            "Epoch 5/10\n",
            "1313/1313 [==============================] - 2s 1ms/step - loss: 0.1964 - accuracy: 0.9430\n",
            "Epoch 6/10\n",
            "1313/1313 [==============================] - 2s 1ms/step - loss: 0.1756 - accuracy: 0.9489\n",
            "Epoch 7/10\n",
            "1313/1313 [==============================] - 1s 1ms/step - loss: 0.1577 - accuracy: 0.9546\n",
            "Epoch 8/10\n",
            "1313/1313 [==============================] - 2s 1ms/step - loss: 0.1425 - accuracy: 0.9585\n",
            "Epoch 9/10\n",
            "1313/1313 [==============================] - 2s 1ms/step - loss: 0.1299 - accuracy: 0.9621\n",
            "Epoch 10/10\n",
            "1313/1313 [==============================] - 2s 1ms/step - loss: 0.1192 - accuracy: 0.9653\n"
          ],
          "name": "stdout"
        }
      ]
    },
    {
      "cell_type": "code",
      "metadata": {
        "id": "HAHm-GqSqdE7",
        "colab": {
          "base_uri": "https://localhost:8080/"
        },
        "outputId": "33a0f69f-5e44-4b48-82de-218a08658ef4"
      },
      "source": [
        "history.history.keys()"
      ],
      "execution_count": 74,
      "outputs": [
        {
          "output_type": "execute_result",
          "data": {
            "text/plain": [
              "dict_keys(['loss', 'accuracy'])"
            ]
          },
          "metadata": {
            "tags": []
          },
          "execution_count": 74
        }
      ]
    },
    {
      "cell_type": "code",
      "metadata": {
        "id": "h4Z8KGWSqdBb",
        "colab": {
          "base_uri": "https://localhost:8080/"
        },
        "outputId": "347f018c-8abd-45b7-ec1f-85f0d0f3c8da"
      },
      "source": [
        "loaded_model = load_model('keras_mnist_model.h5')\n",
        "loaded_model.summary()"
      ],
      "execution_count": 77,
      "outputs": [
        {
          "output_type": "stream",
          "text": [
            "Model: \"sequential_2\"\n",
            "_________________________________________________________________\n",
            "Layer (type)                 Output Shape              Param #   \n",
            "=================================================================\n",
            "flatten (Flatten)            (None, 784)               0         \n",
            "_________________________________________________________________\n",
            "dense1 (Dense)               (None, 100)               78500     \n",
            "_________________________________________________________________\n",
            "dense2 (Dense)               (None, 64)                6464      \n",
            "_________________________________________________________________\n",
            "dense3 (Dense)               (None, 32)                2080      \n",
            "_________________________________________________________________\n",
            "output (Dense)               (None, 10)                330       \n",
            "=================================================================\n",
            "Total params: 87,374\n",
            "Trainable params: 87,374\n",
            "Non-trainable params: 0\n",
            "_________________________________________________________________\n"
          ],
          "name": "stdout"
        }
      ]
    },
    {
      "cell_type": "markdown",
      "metadata": {
        "id": "dGv8fIyo4_Th"
      },
      "source": [
        "최상의 모델만을 저장\n",
        "- save_best_only=True"
      ]
    },
    {
      "cell_type": "code",
      "metadata": {
        "id": "4W4rJEOsqc98",
        "colab": {
          "base_uri": "https://localhost:8080/"
        },
        "outputId": "f275651c-b58b-4bd4-b66c-acc5e36ec87d"
      },
      "source": [
        "model = build_model()\n",
        "\n",
        "cp = ModelCheckpoint('keras_best_model.h5', save_best_only=True)\n",
        "\n",
        "history = model.fit(x_train, y_train, epochs=10,\n",
        "                    validation_data=(x_val, y_val), callbacks=[cp])"
      ],
      "execution_count": 80,
      "outputs": [
        {
          "output_type": "stream",
          "text": [
            "WARNING:tensorflow:Please add `keras.layers.InputLayer` instead of `keras.Input` to Sequential model. `keras.Input` is intended to be used by Functional model.\n",
            "Epoch 1/10\n",
            "1313/1313 [==============================] - 3s 2ms/step - loss: 0.8313 - accuracy: 0.7689 - val_loss: 0.3828 - val_accuracy: 0.8844\n",
            "Epoch 2/10\n",
            "1313/1313 [==============================] - 2s 1ms/step - loss: 0.3293 - accuracy: 0.9048 - val_loss: 0.3154 - val_accuracy: 0.9045\n",
            "Epoch 3/10\n",
            "1313/1313 [==============================] - 2s 2ms/step - loss: 0.2647 - accuracy: 0.9234 - val_loss: 0.2475 - val_accuracy: 0.9251\n",
            "Epoch 4/10\n",
            "1313/1313 [==============================] - 2s 1ms/step - loss: 0.2212 - accuracy: 0.9362 - val_loss: 0.2201 - val_accuracy: 0.9334\n",
            "Epoch 5/10\n",
            "1313/1313 [==============================] - 2s 2ms/step - loss: 0.1910 - accuracy: 0.9446 - val_loss: 0.1961 - val_accuracy: 0.9418\n",
            "Epoch 6/10\n",
            "1313/1313 [==============================] - 2s 1ms/step - loss: 0.1680 - accuracy: 0.9514 - val_loss: 0.1836 - val_accuracy: 0.9447\n",
            "Epoch 7/10\n",
            "1313/1313 [==============================] - 2s 1ms/step - loss: 0.1491 - accuracy: 0.9571 - val_loss: 0.1832 - val_accuracy: 0.9445\n",
            "Epoch 8/10\n",
            "1313/1313 [==============================] - 2s 1ms/step - loss: 0.1344 - accuracy: 0.9610 - val_loss: 0.1462 - val_accuracy: 0.9561\n",
            "Epoch 9/10\n",
            "1313/1313 [==============================] - 2s 2ms/step - loss: 0.1218 - accuracy: 0.9640 - val_loss: 0.1387 - val_accuracy: 0.9577\n",
            "Epoch 10/10\n",
            "1313/1313 [==============================] - 2s 2ms/step - loss: 0.1109 - accuracy: 0.9675 - val_loss: 0.1347 - val_accuracy: 0.9582\n"
          ],
          "name": "stdout"
        }
      ]
    },
    {
      "cell_type": "code",
      "metadata": {
        "id": "r2QNCtmjqc6f"
      },
      "source": [
        ""
      ],
      "execution_count": null,
      "outputs": []
    },
    {
      "cell_type": "code",
      "metadata": {
        "id": "_HlEkRagqc3D"
      },
      "source": [
        ""
      ],
      "execution_count": null,
      "outputs": []
    },
    {
      "cell_type": "markdown",
      "metadata": {
        "id": "osAT_QOp7roL"
      },
      "source": [
        "### EarlyStopping\n",
        "- 일정 에포크(patience) 동안 검증 세트에 대한 점수가 오르지 않으면 학습을 멈춤\n",
        "\n",
        "- 모델이 향상되지 않으면 학습이 자동으로 중지되므로,  \n",
        "  에포크(epochs) 숫자를 크게 해도 무방\n",
        "\n",
        "- 학습이 끝난 후의 최상의 가중치를 복원하기 때문에 모델을 따로 복원할 필요없음"
      ]
    },
    {
      "cell_type": "code",
      "metadata": {
        "id": "JT61djueqczo"
      },
      "source": [
        ""
      ],
      "execution_count": null,
      "outputs": []
    },
    {
      "cell_type": "markdown",
      "metadata": {
        "id": "sPadOgZM9bM-"
      },
      "source": [
        "### LearningRateScheduler"
      ]
    },
    {
      "cell_type": "code",
      "metadata": {
        "id": "njq81hTgqcwG"
      },
      "source": [
        ""
      ],
      "execution_count": null,
      "outputs": []
    },
    {
      "cell_type": "code",
      "metadata": {
        "id": "5AUc7PaMqcsd"
      },
      "source": [
        ""
      ],
      "execution_count": null,
      "outputs": []
    },
    {
      "cell_type": "code",
      "metadata": {
        "id": "ZEH3d9__qco9"
      },
      "source": [
        ""
      ],
      "execution_count": null,
      "outputs": []
    },
    {
      "cell_type": "markdown",
      "metadata": {
        "id": "A31OUv_C-QHX"
      },
      "source": [
        "### Tensorboard\n",
        "- 텐서보드를 이용하여 학습과정 모니터링"
      ]
    },
    {
      "cell_type": "markdown",
      "metadata": {
        "id": "CcDhXXgn_W2F"
      },
      "source": [
        "텐서보드를 사용하기 위해 logs폴더를 만들고, 학습이 진행되는 동안 로그 파일을 생성"
      ]
    },
    {
      "cell_type": "code",
      "metadata": {
        "id": "zc38Lumyqclb"
      },
      "source": [
        ""
      ],
      "execution_count": null,
      "outputs": []
    },
    {
      "cell_type": "code",
      "metadata": {
        "id": "XS1P1aDdqcgb"
      },
      "source": [
        ""
      ],
      "execution_count": null,
      "outputs": []
    },
    {
      "cell_type": "code",
      "metadata": {
        "id": "veufv36_BiZM"
      },
      "source": [
        ""
      ],
      "execution_count": null,
      "outputs": []
    },
    {
      "cell_type": "markdown",
      "metadata": {
        "id": "nkmm5b03CBQb"
      },
      "source": [
        "load하는데 시간 소요\n",
        "\n",
        "- load가 안된다면 port번호를 바꿔서 실행!  \n",
        "  ex) %tensorboard --logdir {log_dir} port 8000"
      ]
    },
    {
      "cell_type": "code",
      "metadata": {
        "id": "RgN2oO6dBnmN"
      },
      "source": [
        ""
      ],
      "execution_count": null,
      "outputs": []
    }
  ]
}